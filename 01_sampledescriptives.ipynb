{
 "cells": [
  {
   "cell_type": "code",
   "execution_count": 62,
   "id": "particular-repair",
   "metadata": {},
   "outputs": [],
   "source": [
    "## helpful packages\n",
    "import pandas as pd\n",
    "import numpy as np\n",
    "import random\n",
    "import re\n",
    "import recordlinkage\n",
    "from sklearn.feature_extraction.text import TfidfVectorizer\n",
    "## nltk imports\n",
    "from nltk.tokenize import word_tokenize, wordpunct_tokenize\n",
    "from nltk.corpus import stopwords\n",
    "from nltk.stem.porter import PorterStemmer\n",
    "from gensim import corpora, models\n",
    "# ! pip install xlrd\n",
    "# ! pip install openpyxl\n",
    "## lda \n",
    "from gensim import corpora\n",
    "import gensim\n",
    "import matplotlib.pyplot as plt # rj note- this import was mssing from the script\n",
    "\n",
    "## repeated printouts\n",
    "from IPython.core.interactiveshell import InteractiveShell\n",
    "InteractiveShell.ast_node_interactivity = \"all\"\n",
    "\n",
    "## define constants and pathnames\n",
    "GITHUB_DATA_PATH = \"../data/\"\n",
    "DROPBOX_DATA_PATH = \"/qss20_finalproj_rawdata/textasdata/\"\n",
    "COMBINED_DISCLOSURE_DATA = \"H-2A_Disclosure_Data_FY_combined_202021Q1.csv\"\n",
    "COMBINED_ADDENDUMS_DATA = \"FOIA_2021-F-05932_raw_data_combined_202021Q1.csv\""
   ]
  },
  {
   "cell_type": "markdown",
   "id": "chemical-mortality",
   "metadata": {},
   "source": [
    "# Load datasets"
   ]
  },
  {
   "cell_type": "code",
   "execution_count": 120,
   "id": "respective-application",
   "metadata": {
    "scrolled": true
   },
   "outputs": [
    {
     "name": "stderr",
     "output_type": "stream",
     "text": [
      "/opt/conda/lib/python3.8/site-packages/IPython/core/interactiveshell.py:3165: DtypeWarning: Columns (17,18,31,83,84,138,139) have mixed types.Specify dtype option on import or set low_memory=False.\n",
      "  has_raised = await self.run_ast_nodes(code_ast.body, cell_name,\n"
     ]
    }
   ],
   "source": [
    "# load data\n",
    "addendum = pd.read_csv(\"../FOIA_2021-F-05932_raw_data_combined_202021Q1.csv\")\n",
    "disclosure = pd.read_csv (\"../H-2A_Disclosure_Data_FY_combined_202021Q1.csv\")"
   ]
  },
  {
   "cell_type": "markdown",
   "id": "fifty-advisory",
   "metadata": {},
   "source": [
    "# Clean disclosure data\n",
    "\n",
    "- Dropping duplicates"
   ]
  },
  {
   "cell_type": "code",
   "execution_count": 121,
   "id": "affected-alcohol",
   "metadata": {},
   "outputs": [
    {
     "name": "stdout",
     "output_type": "stream",
     "text": [
      "Before dropping duplicates, 16783 rows\n",
      "After dropping duplicates, 16774 rows\n"
     ]
    }
   ],
   "source": [
    "print(\"Before dropping duplicates, %s rows\" % len(disclosure))\n",
    "disclosure = disclosure.drop_duplicates([\"CASE_NUMBER\"])\n",
    "print(\"After dropping duplicates, %s rows\" % len(disclosure))"
   ]
  },
  {
   "cell_type": "markdown",
   "id": "parallel-column",
   "metadata": {},
   "source": [
    "# Aggregate addendums data\n",
    "\n",
    "- Dropping duplicates\n",
    "- Rename Column\n",
    "- Joining free text\n",
    "- Removing ones with Spanish"
   ]
  },
  {
   "cell_type": "code",
   "execution_count": 122,
   "id": "local-stephen",
   "metadata": {},
   "outputs": [
    {
     "name": "stdout",
     "output_type": "stream",
     "text": [
      "Before dropping duplicates, 102317 rows\n",
      "After dropping duplicates, 99620 rows\n"
     ]
    }
   ],
   "source": [
    "print(\"Before dropping duplicates, %s rows\" % len(addendum))\n",
    "addendum = addendum.drop_duplicates([\"CASE_NUMBER\", \"SECTION_DETAILS\"])\n",
    "print(\"After dropping duplicates, %s rows\" % len(addendum))"
   ]
  },
  {
   "cell_type": "code",
   "execution_count": 123,
   "id": "burning-knight",
   "metadata": {},
   "outputs": [],
   "source": [
    "# Rename Columns in aggregated addendums\n",
    "addendum = addendum.rename(columns = {\"SECTION_DETAILS\":\"JOB_DESCRIPTION\"})"
   ]
  },
  {
   "cell_type": "code",
   "execution_count": 124,
   "id": "frozen-antigua",
   "metadata": {},
   "outputs": [
    {
     "name": "stdout",
     "output_type": "stream",
     "text": [
      "Removing addendums with any spanish takes us from 13535 jobs to 13143 jobs\n"
     ]
    }
   ],
   "source": [
    "#Remove Job Listings that Contain Spanish Words\n",
    "## rj note: not high priority, but i have some concerns about doing this \n",
    "## removal on the aggregated addendums rather than the sections\n",
    "## in particular, it might make more sense to do the spanish indicator on whether a specific section\n",
    "## contains spanish and then remove that section; preserving non-spanish sections of that posting\n",
    "## this discards the whole post if any section contains spanish, which ends up deleting more data\n",
    "spanish_words = ['compensación',\n",
    " 'ocupación',\n",
    " 'pago',\n",
    " 'transporte',\n",
    " 'reglas',\n",
    " 'contrato',\n",
    " 'horastrabajadores',\n",
    " 'parte',\n",
    " 'tarifas',\n",
    " 'cuartos',\n",
    " 'trabajo',\n",
    " 'registros',\n",
    " 'adicionales',\n",
    " 'comidas',\n",
    " 'empleo',\n",
    " 'terminación',\n",
    " 'vivienda',\n",
    " 'empleador',\n",
    " 'adicionales',\n",
    " 'frecuencia',\n",
    " 'producción',\n",
    " 'liquidación',\n",
    " 'comida',\n",
    " 'herramientas',\n",
    " 'prueba',\n",
    " 'diaria',\n",
    " 'tarifas',\n",
    " 'parado',\n",
    " 'adicionales',\n",
    " 'cobertura',\n",
    " 'proporcionados',\n",
    " 'parte',\n",
    " 'abandono',\n",
    " 'deducciones',\n",
    " 'causa',\n",
    " 'garantías',\n",
    " 'divulgación',\n",
    " 'comidas',\n",
    " 'política',\n",
    " 'disciplina',\n",
    " 'despidos',\n",
    " 'derechos',\n",
    " 'imposibilidad',\n",
    " 'detalles',\n",
    " 'divulgación',\n",
    " 'bloqueo',\n",
    " 'abandono',\n",
    " 'ganancias',\n",
    " 'cobertura',\n",
    " 'pedidos',\n",
    " 'pago',\n",
    " 'oportunidad',\n",
    " 'trabajo']\n",
    "\n",
    "addendum['is_contains_spanish'] = np.where(addendum.JOB_DESCRIPTION.str.contains('|'.join(spanish_words)),\n",
    "                                              True, False)\n",
    "\n",
    "addendum_eng = addendum[~addendum.is_contains_spanish].copy()\n",
    "print(\"Removing addendums with any spanish takes us from {} jobs to {} jobs\".format(\n",
    "        len(addendum.CASE_NUMBER.unique()),\n",
    "        len(addendum_eng.CASE_NUMBER.unique())))\n"
   ]
  },
  {
   "cell_type": "code",
   "execution_count": 128,
   "id": "straight-scholarship",
   "metadata": {},
   "outputs": [
    {
     "name": "stdout",
     "output_type": "stream",
     "text": [
      "After pasting together addendums from same case, 13143 rows\n"
     ]
    },
    {
     "name": "stderr",
     "output_type": "stream",
     "text": [
      "<ipython-input-128-f1789783c14d>:1: FutureWarning: The default value of regex will change from True to False in a future version.\n",
      "  addendum_eng_agg = addendum_eng.groupby(['CASE_NUMBER'])['JOB_DESCRIPTION'].apply(lambda text: ''.join(text.to_string(index=False))).str.replace('(\\\\n)', '').reset_index()\n"
     ]
    }
   ],
   "source": [
    "#Concatenating English Job Lisitngs from Same Case\n",
    "\n",
    "addendum_eng_agg = addendum_eng.groupby(['CASE_NUMBER'])['JOB_DESCRIPTION'].apply(lambda text: ''.join(text.to_string(index=False))).str.replace('(\\\\n)', '').reset_index()\n",
    "print(\"After pasting together addendums from same case, %s rows\" % len(addendum_eng_agg))\n",
    "assert len(addendum_eng_agg) == len(addendum_eng.CASE_NUMBER.unique())\n"
   ]
  },
  {
   "cell_type": "code",
   "execution_count": null,
   "id": "searching-screen",
   "metadata": {},
   "outputs": [],
   "source": [
    "## Above code modified from fifth answer at https://stackoverflow.com/questions/27298178/concatenate-strings-from-several-rows-using-pandas-groupby\n",
    "## because original groupby was including a bunch of linebreaks"
   ]
  },
  {
   "cell_type": "markdown",
   "id": "duplicate-legend",
   "metadata": {},
   "source": [
    "# Merge the addendums data to disclosure data\n",
    "\n",
    "- Clean up state in the disclosure data\n",
    "- Create indicate for TRLA catchment area\n",
    "- Create diff merges\n",
    "\n",
    "RJ note: originally, this had a lot of stuff related to the disclosure data but since we're doing a left join of addendums onto disclosures, and comparing jobs in two categories---\"left only\" (disclosure with no addendum) and \"both\" (disclosure with addendum)---we can delete most of the disclosure stuff post merge and just use left-joined df"
   ]
  },
  {
   "cell_type": "code",
   "execution_count": 130,
   "id": "designing-marine",
   "metadata": {},
   "outputs": [
    {
     "name": "stdout",
     "output_type": "stream",
     "text": [
      "number of NA in EMPLOYER_STATE column before allowing employer_poc_state to count as state\n"
     ]
    },
    {
     "data": {
      "text/plain": [
       "16"
      ]
     },
     "execution_count": 130,
     "metadata": {},
     "output_type": "execute_result"
    },
    {
     "name": "stdout",
     "output_type": "stream",
     "text": [
      "number of NA in EMPLOYER_STATE column after allowing employer_poc_state to count as state\n"
     ]
    },
    {
     "data": {
      "text/plain": [
       "12"
      ]
     },
     "execution_count": 130,
     "metadata": {},
     "output_type": "execute_result"
    }
   ],
   "source": [
    "## rj note: might want to consider allowing employer_poc_state to count\n",
    "## as state but left as is\n",
    "## i left in ones with missing states and they're just false for TRLA catchment\n",
    "\n",
    "#Replace EMPLOYER_STATE NA with employer_poc_state State is there's a value but left NA if both of them are NA\n",
    "disclosure = pd.read_csv (\"../H-2A_Disclosure_Data_FY_combined_202021Q1.csv\")\n",
    "disclosure['EMPLOYER_STATE'] =disclosure.EMPLOYER_STATE.astype(\"string\")\n",
    "print(\"number of NA in EMPLOYER_STATE column before allowing employer_poc_state to count as state\")\n",
    "disclosure['EMPLOYER_STATE'].isna().sum()\n",
    "disclosure['EMPLOYER_POC_STATE'] =disclosure.EMPLOYER_POC_STATE.astype(\"string\")\n",
    "disclosure.EMPLOYER_STATE = disclosure.EMPLOYER_STATE.fillna(disclosure.EMPLOYER_POC_STATE)\n",
    "print(\"number of NA in EMPLOYER_STATE column after allowing employer_poc_state to count as state\")\n",
    "disclosure['EMPLOYER_STATE'].isna().sum()\n",
    "\n",
    "\n"
   ]
  },
  {
   "cell_type": "code",
   "execution_count": 131,
   "id": "sound-alarm",
   "metadata": {},
   "outputs": [
    {
     "data": {
      "text/plain": [
       "False    0.713937\n",
       "True     0.286063\n",
       "Name: TRLA, dtype: float64"
      ]
     },
     "execution_count": 131,
     "metadata": {},
     "output_type": "execute_result"
    }
   ],
   "source": [
    "# Label TRLA Catchment State VS Remaining States\n",
    "## rj note- isin more efficient than long or chain\n",
    "TRLA_catchment = [\"TX\", \"MS\", \"AL\", \"TN\", \"KY\", \"LA\"]\n",
    "disclosure[\"TRLA\"] = np.where(disclosure.EMPLOYER_STATE.isin(TRLA_catchment), True, False)\n",
    "disclosure.TRLA.value_counts(normalize = True)"
   ]
  },
  {
   "cell_type": "code",
   "execution_count": 132,
   "id": "occupational-tuition",
   "metadata": {},
   "outputs": [
    {
     "data": {
      "text/plain": [
       "both          13136\n",
       "left_only      3647\n",
       "right_only        0\n",
       "Name: case_merge_status, dtype: int64"
      ]
     },
     "execution_count": 132,
     "metadata": {},
     "output_type": "execute_result"
    }
   ],
   "source": [
    "## left join addendums onto disclosures \n",
    "## using case number\n",
    "## rj note- i'm just merging english addendums (addendum_eng_agg)\n",
    "## to keep code consistent but you may want to add back\n",
    "## the spanish ones (addendum)\n",
    "merged_data_left = pd.merge(disclosure,\n",
    "                             addendum_eng_agg,\n",
    "                             left_on = 'CASE_NUMBER',\n",
    "                             right_on = 'CASE_NUMBER',\n",
    "                             how = \"left\",\n",
    "                             indicator = \"case_merge_status\")\n",
    "merged_data_left.case_merge_status.value_counts()"
   ]
  },
  {
   "cell_type": "markdown",
   "id": "yellow-psychiatry",
   "metadata": {},
   "source": [
    "# Diagnostics of ones with and without english addendums"
   ]
  },
  {
   "cell_type": "code",
   "execution_count": 133,
   "id": "sitting-colony",
   "metadata": {},
   "outputs": [
    {
     "data": {
      "text/plain": [
       "ANTICIPATED_NUMBER_OF_HOURS    float64\n",
       "WAGE_OFFER                     float64\n",
       "TOTAL_WORKERS_NEEDED           float64\n",
       "dtype: object"
      ]
     },
     "execution_count": 133,
     "metadata": {},
     "output_type": "execute_result"
    },
    {
     "data": {
      "text/plain": [
       "ANTICIPATED_NUMBER_OF_HOURS    float64\n",
       "WAGE_OFFER                     float64\n",
       "TOTAL_WORKERS_NEEDED           float64\n",
       "dtype: object"
      ]
     },
     "execution_count": 133,
     "metadata": {},
     "output_type": "execute_result"
    }
   ],
   "source": [
    "## rj note: i cleaned this up to just use the full left join\n",
    "merged_data_left[['ANTICIPATED_NUMBER_OF_HOURS', 'WAGE_OFFER', 'TOTAL_WORKERS_NEEDED']].dtypes\n",
    "\n",
    "## rj note; combining data w/ code rather than excel\n",
    "## kept this as float rather than as string ($) might have been an \n",
    "## excel formatting thing so kept this code in case issue reoccurs\n",
    "## but probally fine to delete:\n",
    "if merged_data_left.dtypes['WAGE_OFFER'] != \"float64\":\n",
    "      \n",
    "    merged_data_left['WAGE_OFFER'] = merged_data_left['WAGE_OFFER'].str.replace('$', '')\n",
    "    merged_data_left['WAGE_OFFER'] = merged_data_left['WAGE_OFFER'].str.replace(',', '')\n",
    "    merged_data_left['WAGE_OFFER'] = merged_data_left['WAGE_OFFER'].astype(float)\n",
    "        \n",
    "merged_data_left[['ANTICIPATED_NUMBER_OF_HOURS', 'WAGE_OFFER', 'TOTAL_WORKERS_NEEDED']].dtypes"
   ]
  },
  {
   "cell_type": "code",
   "execution_count": 134,
   "id": "juvenile-arrival",
   "metadata": {
    "scrolled": false
   },
   "outputs": [
    {
     "data": {
      "text/html": [
       "<div>\n",
       "<style scoped>\n",
       "    .dataframe tbody tr th:only-of-type {\n",
       "        vertical-align: middle;\n",
       "    }\n",
       "\n",
       "    .dataframe tbody tr th {\n",
       "        vertical-align: top;\n",
       "    }\n",
       "\n",
       "    .dataframe thead tr th {\n",
       "        text-align: left;\n",
       "    }\n",
       "\n",
       "    .dataframe thead tr:last-of-type th {\n",
       "        text-align: right;\n",
       "    }\n",
       "</style>\n",
       "<table border=\"1\" class=\"dataframe\">\n",
       "  <thead>\n",
       "    <tr>\n",
       "      <th></th>\n",
       "      <th>WAGE_OFFER</th>\n",
       "      <th>TOTAL_WORKERS_NEEDED</th>\n",
       "      <th>ANTICIPATED_NUMBER_OF_HOURS</th>\n",
       "      <th>PIECE_RATE_OFFER</th>\n",
       "      <th>WORK_EXPERIENCE_MONTHS</th>\n",
       "      <th>TOTAL_OCCUPANCY</th>\n",
       "      <th>LIFTING_AMOUNT</th>\n",
       "      <th>TRLA</th>\n",
       "    </tr>\n",
       "    <tr>\n",
       "      <th></th>\n",
       "      <th>median</th>\n",
       "      <th>median</th>\n",
       "      <th>median</th>\n",
       "      <th>median</th>\n",
       "      <th>median</th>\n",
       "      <th>median</th>\n",
       "      <th>median</th>\n",
       "      <th>mean</th>\n",
       "    </tr>\n",
       "    <tr>\n",
       "      <th>case_merge_status_descriptive</th>\n",
       "      <th></th>\n",
       "      <th></th>\n",
       "      <th></th>\n",
       "      <th></th>\n",
       "      <th></th>\n",
       "      <th></th>\n",
       "      <th></th>\n",
       "      <th></th>\n",
       "    </tr>\n",
       "  </thead>\n",
       "  <tbody>\n",
       "    <tr>\n",
       "      <th>English addendum</th>\n",
       "      <td>13.48</td>\n",
       "      <td>6.0</td>\n",
       "      <td>40.0</td>\n",
       "      <td>0.0</td>\n",
       "      <td>3.0</td>\n",
       "      <td>8.0</td>\n",
       "      <td>60.0</td>\n",
       "      <td>0.280527</td>\n",
       "    </tr>\n",
       "    <tr>\n",
       "      <th>No English addendum</th>\n",
       "      <td>13.13</td>\n",
       "      <td>4.0</td>\n",
       "      <td>40.0</td>\n",
       "      <td>0.0</td>\n",
       "      <td>3.0</td>\n",
       "      <td>6.0</td>\n",
       "      <td>50.0</td>\n",
       "      <td>0.306005</td>\n",
       "    </tr>\n",
       "  </tbody>\n",
       "</table>\n",
       "</div>"
      ],
      "text/plain": [
       "                              WAGE_OFFER TOTAL_WORKERS_NEEDED  \\\n",
       "                                  median               median   \n",
       "case_merge_status_descriptive                                   \n",
       "English addendum                   13.48                  6.0   \n",
       "No English addendum                13.13                  4.0   \n",
       "\n",
       "                              ANTICIPATED_NUMBER_OF_HOURS PIECE_RATE_OFFER  \\\n",
       "                                                   median           median   \n",
       "case_merge_status_descriptive                                                \n",
       "English addendum                                     40.0              0.0   \n",
       "No English addendum                                  40.0              0.0   \n",
       "\n",
       "                              WORK_EXPERIENCE_MONTHS TOTAL_OCCUPANCY  \\\n",
       "                                              median          median   \n",
       "case_merge_status_descriptive                                          \n",
       "English addendum                                 3.0             8.0   \n",
       "No English addendum                              3.0             6.0   \n",
       "\n",
       "                              LIFTING_AMOUNT      TRLA  \n",
       "                                      median      mean  \n",
       "case_merge_status_descriptive                           \n",
       "English addendum                        60.0  0.280527  \n",
       "No English addendum                     50.0  0.306005  "
      ]
     },
     "execution_count": 134,
     "metadata": {},
     "output_type": "execute_result"
    }
   ],
   "source": [
    "## add more informative column\n",
    "merged_data_left['case_merge_status_descriptive'] = np.where(merged_data_left.case_merge_status == \n",
    "                                                        \"left_only\",\n",
    "                                                        \"No English addendum\",\n",
    "                                                        \"English addendum\")\n",
    "merged_data_left.groupby('case_merge_status_descriptive').agg(\n",
    "        {\n",
    "         \"WAGE_OFFER\": [\"median\"],\n",
    "         \"TOTAL_WORKERS_NEEDED\": [\"median\"],\n",
    "        \"ANTICIPATED_NUMBER_OF_HOURS\": [\"median\"],\n",
    "        \"PIECE_RATE_OFFER\": [\"median\"],\n",
    "        \"WORK_EXPERIENCE_MONTHS\" : [\"median\"],\n",
    "        \"TOTAL_OCCUPANCY\" : [\"median\"],\n",
    "        \"LIFTING_AMOUNT\" : [\"median\"],\n",
    "        \"TRLA\": np.mean} # rj note: added TRLA to hear since we can just take mean\n",
    "        )\n",
    "\n",
    "#percentage of non TRLA states is higher\n",
    "#compare wages? is it that there's lower wage rate so there's no listing?\n"
   ]
  },
  {
   "cell_type": "markdown",
   "id": "essential-disclaimer",
   "metadata": {},
   "source": [
    "## Plot breakdown of addendums by TRLA or not "
   ]
  },
  {
   "cell_type": "markdown",
   "id": "knowing-portal",
   "metadata": {},
   "source": [
    "### Pie chart"
   ]
  },
  {
   "cell_type": "code",
   "execution_count": 117,
   "id": "organic-commons",
   "metadata": {},
   "outputs": [
    {
     "data": {
      "text/plain": [
       "both          74888\n",
       "left_only      3647\n",
       "right_only        0\n",
       "Name: case_merge_status, dtype: int64"
      ]
     },
     "execution_count": 117,
     "metadata": {},
     "output_type": "execute_result"
    }
   ],
   "source": [
    "merged_data_left.case_merge_status.value_counts()"
   ]
  },
  {
   "cell_type": "code",
   "execution_count": 118,
   "id": "prompt-progressive",
   "metadata": {},
   "outputs": [
    {
     "data": {
      "text/plain": [
       "[2531, 1116]"
      ]
     },
     "execution_count": 118,
     "metadata": {},
     "output_type": "execute_result"
    },
    {
     "data": {
      "text/plain": [
       "[57151, 17737]"
      ]
     },
     "execution_count": 118,
     "metadata": {},
     "output_type": "execute_result"
    },
    {
     "data": {
      "text/plain": [
       "([<matplotlib.patches.Wedge at 0x7f3a9e615af0>,\n",
       "  <matplotlib.patches.Wedge at 0x7f3a8de80220>],\n",
       " [Text(-0.6296613361890455, 0.9019570952704047, 'Non-TRLA'),\n",
       "  Text(0.6296613361890454, -0.9019570952704048, 'TRLA')],\n",
       " [Text(-0.3434516379212975, 0.4919765974202207, '69.4%'),\n",
       "  Text(0.34345163792129746, -0.49197659742022076, '30.6%')])"
      ]
     },
     "execution_count": 118,
     "metadata": {},
     "output_type": "execute_result"
    },
    {
     "data": {
      "text/plain": [
       "Text(0.5, 1.0, 'Jobs without English addendums\\n(not in text analysis)')"
      ]
     },
     "execution_count": 118,
     "metadata": {},
     "output_type": "execute_result"
    },
    {
     "data": {
      "text/plain": [
       "Text(0.5, 1.0, 'Jobs with English addendums\\n(in text analysis)')"
      ]
     },
     "execution_count": 118,
     "metadata": {},
     "output_type": "execute_result"
    },
    {
     "data": {
      "text/plain": [
       "([<matplotlib.patches.Wedge at 0x7f3a8de80af0>,\n",
       "  <matplotlib.patches.Wedge at 0x7f3a8cc42100>],\n",
       " [Text(-0.8092847446980336, 0.7450222828875918, 'Non-TRLA'),\n",
       "  Text(0.8092847098210224, -0.7450223207729441, 'TRLA')],\n",
       " [Text(-0.44142804256256374, 0.4063757906659591, '76.3%'),\n",
       "  Text(0.4414280235387395, -0.4063758113306967, '23.7%')])"
      ]
     },
     "execution_count": 118,
     "metadata": {},
     "output_type": "execute_result"
    },
    {
     "data": {
      "image/png": "[encoded data removed]",
      "text/plain": [
       "<Figure size 720x720 with 2 Axes>"
      ]
     },
     "metadata": {},
     "output_type": "display_data"
    }
   ],
   "source": [
    "no_add = [merged_data_left[(merged_data_left.case_merge_status == \"left_only\") &\n",
    "                     (~merged_data_left.TRLA)].shape[0],\n",
    "            merged_data_left[(merged_data_left.case_merge_status == \"left_only\") &\n",
    "                     (merged_data_left.TRLA)].shape[0]]\n",
    "no_add\n",
    "\n",
    "add = [merged_data_left[(merged_data_left.case_merge_status == \"both\") &\n",
    "                     (~merged_data_left.TRLA)].shape[0],\n",
    "            merged_data_left[(merged_data_left.case_merge_status == \"both\") &\n",
    "                     (merged_data_left.TRLA)].shape[0]]\n",
    "add\n",
    "labels = ['Non-TRLA', 'TRLA'] \n",
    "fig, (plt1,plt2) = plt.subplots(1,2,figsize=(10,10))\n",
    "plt1.pie(no_add, labels=labels, autopct='%1.1f%%')\n",
    "plt1.set_title(\"Jobs without English addendums\\n(not in text analysis)\")\n",
    "plt2.set_title(\"Jobs with English addendums\\n(in text analysis)\")\n",
    "plt2.pie(add, labels=labels, autopct='%1.1f%%')"
   ]
  },
  {
   "cell_type": "markdown",
   "id": "spare-dutch",
   "metadata": {},
   "source": [
    "# Write outputs for next script\n",
    "\n",
    "- pkl and csv (in case linebreak) of inner join between (1) disclosure and (2) aggregated, English-only addendums"
   ]
  },
  {
   "cell_type": "code",
   "execution_count": 135,
   "id": "willing-folder",
   "metadata": {},
   "outputs": [
    {
     "data": {
      "text/plain": [
       "(13136, 142)"
      ]
     },
     "execution_count": 135,
     "metadata": {},
     "output_type": "execute_result"
    }
   ],
   "source": [
    "## same join as above but inner join rather than left join\n",
    "merged_data_inner = pd.merge(disclosure,\n",
    "                             addendum_eng_agg,\n",
    "                             left_on = 'CASE_NUMBER',\n",
    "                             right_on = 'CASE_NUMBER',\n",
    "                             how = \"inner\")\n",
    "merged_data_inner.shape\n",
    "\n",
    "## write pkl and csv form to Dropbox folder\n",
    "merged_data_inner.to_csv(\"../merged_addendums_jobdisclosures.csv\",\n",
    "                        index = False)\n",
    "merged_data_inner.to_pickle(\"../merged_addendums_jobdisclosures.pkl\")"
   ]
  }
 ],
 "metadata": {
  "kernelspec": {
   "display_name": "Python 3",
   "language": "python",
   "name": "python3"
  },
  "language_info": {
   "codemirror_mode": {
    "name": "ipython",
    "version": 3
   },
   "file_extension": ".py",
   "mimetype": "text/x-python",
   "name": "python",
   "nbconvert_exporter": "python",
   "pygments_lexer": "ipython3",
   "version": "3.8.8"
  }
 },
 "nbformat": 4,
 "nbformat_minor": 5
}
