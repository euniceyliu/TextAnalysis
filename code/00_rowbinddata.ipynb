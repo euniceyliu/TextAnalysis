{
 "cells": [
  {
   "cell_type": "markdown",
   "metadata": {},
   "source": [
    "# Imports "
   ]
  },
  {
   "cell_type": "code",
   "execution_count": 24,
   "metadata": {},
   "outputs": [],
   "source": [
    "## packages\n",
    "import pandas as pd\n",
    "\n",
    "## define constants\n",
    "GITHUB_DATA_PATH = \"../data/\"\n",
    "DROPBOX_DATA_PATH = \"../../../qss20_finalproj_rawdata/textasdata/\"\n",
    "\n",
    "## repeated printouts\n",
    "from IPython.core.interactiveshell import InteractiveShell\n",
    "InteractiveShell.ast_node_interactivity = \"all\""
   ]
  },
  {
   "cell_type": "markdown",
   "metadata": {},
   "source": [
    "# Read in raw disclosure data from 2020 and Q1 21 and combine"
   ]
  },
  {
   "cell_type": "code",
   "execution_count": 5,
   "metadata": {},
   "outputs": [],
   "source": [
    "\n",
    "\n",
    "h2a_2020 = pd.read_excel(GITHUB_DATA_PATH + \"H-2A_Disclosure_Data_FY2020(Q1-Q4).xlsx\")\n",
    "h2a_2021 = pd.read_excel(GITHUB_DATA_PATH + \"H2A_Disclosure_Data_FY2021_Q1.xlsx\")"
   ]
  },
  {
   "cell_type": "code",
   "execution_count": 6,
   "metadata": {},
   "outputs": [],
   "source": [
    "## rowbind\n",
    "h2a_combined = pd.concat([h2a_2020, h2a_2021])"
   ]
  },
  {
   "cell_type": "code",
   "execution_count": 9,
   "metadata": {},
   "outputs": [
    {
     "name": "stderr",
     "output_type": "stream",
     "text": [
      "/Users/rebeccajohnson/opt/anaconda3/lib/python3.8/site-packages/IPython/core/interactiveshell.py:3071: DtypeWarning: Columns (17,18,31) have mixed types.Specify dtype option on import or set low_memory=False.\n",
      "  has_raised = await self.run_ast_nodes(code_ast.body, cell_name,\n"
     ]
    }
   ],
   "source": [
    "## read in the manually-combined data and check\n",
    "h2a_combined_manual = pd.read_csv(DROPBOX_DATA_PATH + \"H-2A_Disclosure_Data_FY_combined.csv\")\n"
   ]
  },
  {
   "cell_type": "code",
   "execution_count": 11,
   "metadata": {},
   "outputs": [
    {
     "name": "stdout",
     "output_type": "stream",
     "text": [
      "(16783, 140)\n",
      "(16783, 138)\n"
     ]
    },
    {
     "data": {
      "text/plain": [
       "{'HOURLY_SCHEDULE_BEGIN', 'HOURLY_SCHEDULE_END'}"
      ]
     },
     "execution_count": 11,
     "metadata": {},
     "output_type": "execute_result"
    }
   ],
   "source": [
    "print(h2a_combined.shape)\n",
    "print(h2a_combined_manual.shape)\n",
    "\n",
    "set(h2a_combined.columns).difference(h2a_combined_manual.columns)\n",
    "\n",
    "## auto-combined has two extra cols; leaving in"
   ]
  },
  {
   "cell_type": "code",
   "execution_count": 26,
   "metadata": {},
   "outputs": [],
   "source": [
    "## write to the dropbox folder (saved with diff name to not overwrite over)\n",
    "h2a_combined.to_csv(DROPBOX_DATA_PATH + \"H-2A_Disclosure_Data_FY_combined_202021Q1.csv\",\n",
    "                   index = False)"
   ]
  },
  {
   "cell_type": "markdown",
   "metadata": {},
   "source": [
    "# Read in FOIA data and combine"
   ]
  },
  {
   "cell_type": "code",
   "execution_count": 13,
   "metadata": {},
   "outputs": [
    {
     "name": "stdout",
     "output_type": "stream",
     "text": [
      "There are 2 FOIA sheets\n"
     ]
    }
   ],
   "source": [
    "all_foia_sheets = pd.read_excel(GITHUB_DATA_PATH + \"FOIA_2021-F-05932_raw_data.xlsx\",\n",
    "                               sheet_name= None)\n",
    "\n",
    "print(\"There are %s FOIA sheets\"% len(all_foia_sheets))"
   ]
  },
  {
   "cell_type": "code",
   "execution_count": 18,
   "metadata": {},
   "outputs": [
    {
     "name": "stdout",
     "output_type": "stream",
     "text": [
      "<class 'dict'>\n"
     ]
    }
   ],
   "source": [
    "## dictionary with two keys; one per sheet\n",
    "print(type(all_foia_sheets))\n",
    "\n",
    "## read in manually-combined data to see structure\n",
    "addendum = pd.read_csv(DROPBOX_DATA_PATH + \"FOIA_2021-F-05932_raw_data_combined.csv\")"
   ]
  },
  {
   "cell_type": "code",
   "execution_count": 27,
   "metadata": {},
   "outputs": [
    {
     "data": {
      "text/html": [
       "<div>\n",
       "<style scoped>\n",
       "    .dataframe tbody tr th:only-of-type {\n",
       "        vertical-align: middle;\n",
       "    }\n",
       "\n",
       "    .dataframe tbody tr th {\n",
       "        vertical-align: top;\n",
       "    }\n",
       "\n",
       "    .dataframe thead th {\n",
       "        text-align: right;\n",
       "    }\n",
       "</style>\n",
       "<table border=\"1\" class=\"dataframe\">\n",
       "  <thead>\n",
       "    <tr style=\"text-align: right;\">\n",
       "      <th></th>\n",
       "      <th>CASE_NUMBER</th>\n",
       "      <th>SECTION_NAME</th>\n",
       "      <th>SECTION_NUMBER</th>\n",
       "      <th>SECTION_DETAILS</th>\n",
       "    </tr>\n",
       "  </thead>\n",
       "  <tbody>\n",
       "    <tr>\n",
       "      <th>0</th>\n",
       "      <td>H-300-19274-066174</td>\n",
       "      <td>Meal Provision</td>\n",
       "      <td>E.1</td>\n",
       "      <td>Employer will furnish free and convenient cook...</td>\n",
       "    </tr>\n",
       "    <tr>\n",
       "      <th>1</th>\n",
       "      <td>H-300-19274-066174</td>\n",
       "      <td>Job Requirements</td>\n",
       "      <td>B.6</td>\n",
       "      <td>Three (3) months experience with references re...</td>\n",
       "    </tr>\n",
       "    <tr>\n",
       "      <th>2</th>\n",
       "      <td>H-300-19274-066174</td>\n",
       "      <td>Daily Transportation</td>\n",
       "      <td>F.1</td>\n",
       "      <td>Living &amp; laundry facilities available. Housing...</td>\n",
       "    </tr>\n",
       "    <tr>\n",
       "      <th>3</th>\n",
       "      <td>H-300-19274-066174</td>\n",
       "      <td>Job Requirements</td>\n",
       "      <td>B.6</td>\n",
       "      <td>Should the Employers worker’s compensation ins...</td>\n",
       "    </tr>\n",
       "    <tr>\n",
       "      <th>4</th>\n",
       "      <td>H-300-19274-066174</td>\n",
       "      <td>Daily Transportation</td>\n",
       "      <td>F.1</td>\n",
       "      <td>The employer shall provide transportation in t...</td>\n",
       "    </tr>\n",
       "  </tbody>\n",
       "</table>\n",
       "</div>"
      ],
      "text/plain": [
       "          CASE_NUMBER          SECTION_NAME SECTION_NUMBER  \\\n",
       "0  H-300-19274-066174        Meal Provision            E.1   \n",
       "1  H-300-19274-066174      Job Requirements            B.6   \n",
       "2  H-300-19274-066174  Daily Transportation            F.1   \n",
       "3  H-300-19274-066174      Job Requirements            B.6   \n",
       "4  H-300-19274-066174  Daily Transportation            F.1   \n",
       "\n",
       "                                     SECTION_DETAILS  \n",
       "0  Employer will furnish free and convenient cook...  \n",
       "1  Three (3) months experience with references re...  \n",
       "2  Living & laundry facilities available. Housing...  \n",
       "3  Should the Employers worker’s compensation ins...  \n",
       "4  The employer shall provide transportation in t...  "
      ]
     },
     "execution_count": 27,
     "metadata": {},
     "output_type": "execute_result"
    },
    {
     "data": {
      "text/plain": [
       "Index(['CASE_NUMBER', 'SECTION_NAME', 'SECTION_NUMBER', 'SECTION_DETAILS'], dtype='object')"
      ]
     },
     "execution_count": 27,
     "metadata": {},
     "output_type": "execute_result"
    },
    {
     "data": {
      "text/plain": [
       "(102317, 4)"
      ]
     },
     "execution_count": 27,
     "metadata": {},
     "output_type": "execute_result"
    },
    {
     "data": {
      "text/plain": [
       "(102317, 4)"
      ]
     },
     "execution_count": 27,
     "metadata": {},
     "output_type": "execute_result"
    }
   ],
   "source": [
    "addendum.head()\n",
    "addendum.columns\n",
    "\n",
    "## pd concat the dictionary\n",
    "addendum_code = pd.concat(all_foia_sheets).reset_index()\n",
    "addendum_code_keep = addendum_code[[col for col in addendum_code.columns if \"level\" not in col]]\n",
    "\n",
    "addendum.shape\n",
    "addendum_code_keep.shape\n",
    "\n",
    "## looks good; similarly, not writing over\n",
    "addendum_code_keep.to_csv(DROPBOX_DATA_PATH + \"FOIA_2021-F-05932_raw_data_combined_202021Q1.csv\",\n",
    "                         index = False)"
   ]
  }
 ],
 "metadata": {
  "kernelspec": {
   "display_name": "Python 3",
   "language": "python",
   "name": "python3"
  },
  "language_info": {
   "codemirror_mode": {
    "name": "ipython",
    "version": 3
   },
   "file_extension": ".py",
   "mimetype": "text/x-python",
   "name": "python",
   "nbconvert_exporter": "python",
   "pygments_lexer": "ipython3",
   "version": "3.8.3"
  }
 },
 "nbformat": 4,
 "nbformat_minor": 4
}
