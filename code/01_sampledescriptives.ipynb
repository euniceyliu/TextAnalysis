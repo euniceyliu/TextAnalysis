{
 "cells": [
  {
   "cell_type": "code",
   "execution_count": 1,
   "metadata": {},
   "outputs": [],
   "source": [
    "## helpful packages\n",
    "import pandas as pd\n",
    "import numpy as np\n",
    "import random\n",
    "import re\n",
    "import recordlinkage\n",
    "from sklearn.feature_extraction.text import TfidfVectorizer\n",
    "## nltk imports\n",
    "from nltk.tokenize import word_tokenize, wordpunct_tokenize\n",
    "from nltk.corpus import stopwords\n",
    "from nltk.stem.porter import PorterStemmer\n",
    "from gensim import corpora, models\n",
    "# ! pip install xlrd\n",
    "# ! pip install openpyxl\n",
    "## lda \n",
    "from gensim import corpora\n",
    "import gensim\n",
    "import matplotlib.pyplot as plt # rj note- this import was mssing from the script\n",
    "\n",
    "## repeated printouts\n",
    "from IPython.core.interactiveshell import InteractiveShell\n",
    "InteractiveShell.ast_node_interactivity = \"all\"\n",
    "\n",
    "## define constants and pathnames\n",
    "GITHUB_DATA_PATH = \"../data/\"\n",
    "DROPBOX_DATA_PATH = \"../../../qss20_finalproj_rawdata/textasdata/\"\n",
    "COMBINED_DISCLOSURE_DATA = \"H-2A_Disclosure_Data_FY_combined_202021Q1.csv\"\n",
    "COMBINED_ADDENDUMS_DATA = \"FOIA_2021-F-05932_raw_data_combined_202021Q1.csv\""
   ]
  },
  {
   "cell_type": "markdown",
   "metadata": {},
   "source": [
    "# Load datasets"
   ]
  },
  {
   "cell_type": "code",
   "execution_count": 2,
   "metadata": {
    "scrolled": true
   },
   "outputs": [
    {
     "name": "stderr",
     "output_type": "stream",
     "text": [
      "/Users/rebeccajohnson/opt/anaconda3/lib/python3.8/site-packages/IPython/core/interactiveshell.py:3071: DtypeWarning: Columns (17,18,31,83,84,138,139) have mixed types.Specify dtype option on import or set low_memory=False.\n",
      "  has_raised = await self.run_ast_nodes(code_ast.body, cell_name,\n"
     ]
    }
   ],
   "source": [
    "# load data\n",
    "addendum = pd.read_csv(DROPBOX_DATA_PATH + COMBINED_ADDENDUMS_DATA)\n",
    "disclosure = pd.read_csv (DROPBOX_DATA_PATH + COMBINED_DISCLOSURE_DATA)"
   ]
  },
  {
   "cell_type": "markdown",
   "metadata": {},
   "source": [
    "# 1. Aggregate addendums data\n",
    "\n",
    "- Dropping duplicates\n",
    "- Joining free text\n",
    "- Removing ones with Spanish"
   ]
  },
  {
   "cell_type": "code",
   "execution_count": 3,
   "metadata": {},
   "outputs": [
    {
     "name": "stdout",
     "output_type": "stream",
     "text": [
      "Before dropping duplicates, 102317 rows\n",
      "After dropping duplicates, 99620 rows\n"
     ]
    }
   ],
   "source": [
    "print(\"Before dropping duplicates, %s rows\" % len(addendum))\n",
    "addendum = addendum.drop_duplicates([\"CASE_NUMBER\", \"SECTION_DETAILS\"])\n",
    "print(\"After dropping duplicates, %s rows\" % len(addendum))"
   ]
  },
  {
   "cell_type": "code",
   "execution_count": 4,
   "metadata": {},
   "outputs": [
    {
     "name": "stdout",
     "output_type": "stream",
     "text": [
      "After pasting together addendums from same case, 13535 rows\n"
     ]
    },
    {
     "name": "stderr",
     "output_type": "stream",
     "text": [
      "<ipython-input-4-07beded20aeb>:1: FutureWarning: The default value of regex will change from True to False in a future version.\n",
      "  addendum_agg = addendum.groupby(['CASE_NUMBER'])['SECTION_DETAILS'].apply(lambda text: ''.join(text.to_string(index=False))).str.replace('(\\\\n)', '').reset_index()\n"
     ]
    }
   ],
   "source": [
    "addendum_agg = addendum.groupby(['CASE_NUMBER'])['SECTION_DETAILS'].apply(lambda text: ''.join(text.to_string(index=False))).str.replace('(\\\\n)', '').reset_index()\n",
    "print(\"After pasting together addendums from same case, %s rows\" % len(addendum_agg))\n",
    "assert len(addendum_agg) == len(addendum.CASE_NUMBER.unique())"
   ]
  },
  {
   "cell_type": "code",
   "execution_count": 5,
   "metadata": {},
   "outputs": [],
   "source": [
    "## Above code modified from fifth answer at https://stackoverflow.com/questions/27298178/concatenate-strings-from-several-rows-using-pandas-groupby\n",
    "## because original groupby was including a bunch of linebreaks"
   ]
  },
  {
   "cell_type": "code",
   "execution_count": 6,
   "metadata": {},
   "outputs": [],
   "source": [
    "# Rename Columns in aggregated addendums\n",
    "addendum_agg = addendum_agg.rename(columns = {\"SECTION_DETAILS\":\"JOB_DESCRIPTION\"})"
   ]
  },
  {
   "cell_type": "code",
   "execution_count": 7,
   "metadata": {},
   "outputs": [
    {
     "name": "stdout",
     "output_type": "stream",
     "text": [
      "Removing addendums with any spanish takes us from 13535 jobs to 11763 jobs\n"
     ]
    }
   ],
   "source": [
    "#Remove Job Listings that Contain Spanish Words\n",
    "spanish_words = ['compensación',\n",
    " 'ocupación',\n",
    " 'pago',\n",
    " 'transporte',\n",
    " 'reglas',\n",
    " 'contrato',\n",
    " 'horastrabajadores',\n",
    " 'parte',\n",
    " 'tarifas',\n",
    " 'cuartos',\n",
    " 'trabajo',\n",
    " 'registros',\n",
    " 'adicionales',\n",
    " 'comidas',\n",
    " 'empleo',\n",
    " 'terminación',\n",
    " 'vivienda',\n",
    " 'empleador',\n",
    " 'adicionales',\n",
    " 'frecuencia',\n",
    " 'producción',\n",
    " 'liquidación',\n",
    " 'comida',\n",
    " 'herramientas',\n",
    " 'prueba',\n",
    " 'diaria',\n",
    " 'tarifas',\n",
    " 'parado',\n",
    " 'adicionales',\n",
    " 'cobertura',\n",
    " 'proporcionados',\n",
    " 'parte',\n",
    " 'abandono',\n",
    " 'deducciones',\n",
    " 'causa',\n",
    " 'garantías',\n",
    " 'divulgación',\n",
    " 'comidas',\n",
    " 'política',\n",
    " 'disciplina',\n",
    " 'despidos',\n",
    " 'derechos',\n",
    " 'imposibilidad',\n",
    " 'detalles',\n",
    " 'divulgación',\n",
    " 'bloqueo',\n",
    " 'abandono',\n",
    " 'ganancias',\n",
    " 'cobertura',\n",
    " 'pedidos',\n",
    " 'pago',\n",
    " 'oportunidad',\n",
    " 'trabajo']\n",
    "\n",
    "\n",
    "## rj note: not high priority, but i have some concerns about doing this \n",
    "## removal on the aggregated addendums rather than the sections\n",
    "## in particular, it might make more sense to do the spanish indicator on whether a specific section\n",
    "## contains spanish and then remove that section; preserving non-spanish sections of that posting\n",
    "## this discards the whole post if any section contains spanish, which ends up deleting more data\n",
    "addendum_agg['is_contains_spanish'] = np.where(addendum_agg.JOB_DESCRIPTION.str.contains('|'.join(spanish_words)),\n",
    "                                              True, False)\n",
    "\n",
    "addendum_eng = addendum_agg[~addendum_agg.is_contains_spanish].copy()\n",
    "print(\"Removing addendums with any spanish takes us from {} jobs to {} jobs\".format(\n",
    "        len(addendum_agg.CASE_NUMBER.unique()),\n",
    "        len(addendum_eng.CASE_NUMBER.unique())))\n"
   ]
  },
  {
   "cell_type": "markdown",
   "metadata": {},
   "source": [
    "# Merge the addendums data to disclosure data\n",
    "\n",
    "- Clean up state in the disclosure data\n",
    "- Create indicate for TRLA catchment area\n",
    "- Create diff merges\n",
    "\n",
    "RJ note: originally, this had a lot of stuff related to the disclosure data but since we're doing a left join of addendums onto disclosures, and comparing jobs in two categories---\"left only\" (disclosure with no addendum) and \"both\" (disclosure with addendum)---we can delete most of the disclosure stuff post merge and just use left-joined df"
   ]
  },
  {
   "cell_type": "code",
   "execution_count": 8,
   "metadata": {},
   "outputs": [
    {
     "data": {
      "text/html": [
       "<div>\n",
       "<style scoped>\n",
       "    .dataframe tbody tr th:only-of-type {\n",
       "        vertical-align: middle;\n",
       "    }\n",
       "\n",
       "    .dataframe tbody tr th {\n",
       "        vertical-align: top;\n",
       "    }\n",
       "\n",
       "    .dataframe thead th {\n",
       "        text-align: right;\n",
       "    }\n",
       "</style>\n",
       "<table border=\"1\" class=\"dataframe\">\n",
       "  <thead>\n",
       "    <tr style=\"text-align: right;\">\n",
       "      <th></th>\n",
       "      <th>EMPLOYER_STATE</th>\n",
       "      <th>EMPLOYER_CITY</th>\n",
       "      <th>EMPLOYER_ADDRESS_1</th>\n",
       "      <th>EMPLOYER_ADDRESS_2</th>\n",
       "      <th>EMPLOYER_POC_STATE</th>\n",
       "    </tr>\n",
       "  </thead>\n",
       "  <tbody>\n",
       "    <tr>\n",
       "      <th>6187</th>\n",
       "      <td>&lt;NA&gt;</td>\n",
       "      <td>Coaldale</td>\n",
       "      <td>Box 1298</td>\n",
       "      <td>NaN</td>\n",
       "      <td>CA</td>\n",
       "    </tr>\n",
       "    <tr>\n",
       "      <th>4555</th>\n",
       "      <td>&lt;NA&gt;</td>\n",
       "      <td>Quill Lake</td>\n",
       "      <td>PO Box 634</td>\n",
       "      <td>NaN</td>\n",
       "      <td>NaN</td>\n",
       "    </tr>\n",
       "    <tr>\n",
       "      <th>5602</th>\n",
       "      <td>&lt;NA&gt;</td>\n",
       "      <td>Lethbridge</td>\n",
       "      <td>1510 C 31 Street North</td>\n",
       "      <td>NaN</td>\n",
       "      <td>NaN</td>\n",
       "    </tr>\n",
       "    <tr>\n",
       "      <th>3802</th>\n",
       "      <td>&lt;NA&gt;</td>\n",
       "      <td>Hodgeville</td>\n",
       "      <td>Highway 19 South</td>\n",
       "      <td>Box 127</td>\n",
       "      <td>NaN</td>\n",
       "    </tr>\n",
       "    <tr>\n",
       "      <th>5498</th>\n",
       "      <td>&lt;NA&gt;</td>\n",
       "      <td>Fort Macleod</td>\n",
       "      <td>146 Manning Ave</td>\n",
       "      <td>NaN</td>\n",
       "      <td>NaN</td>\n",
       "    </tr>\n",
       "    <tr>\n",
       "      <th>3369</th>\n",
       "      <td>&lt;NA&gt;</td>\n",
       "      <td>Craik</td>\n",
       "      <td>Box 222</td>\n",
       "      <td>NaN</td>\n",
       "      <td>NaN</td>\n",
       "    </tr>\n",
       "    <tr>\n",
       "      <th>12479</th>\n",
       "      <td>&lt;NA&gt;</td>\n",
       "      <td>Cairo</td>\n",
       "      <td>1511 Ridge Road</td>\n",
       "      <td>NaN</td>\n",
       "      <td>GA</td>\n",
       "    </tr>\n",
       "    <tr>\n",
       "      <th>5289</th>\n",
       "      <td>&lt;NA&gt;</td>\n",
       "      <td>hargeisa</td>\n",
       "      <td>hargeisa somaliland</td>\n",
       "      <td>Mohamed haybe</td>\n",
       "      <td>NaN</td>\n",
       "    </tr>\n",
       "    <tr>\n",
       "      <th>4706</th>\n",
       "      <td>&lt;NA&gt;</td>\n",
       "      <td>Foremost</td>\n",
       "      <td>602 Center Street</td>\n",
       "      <td>NaN</td>\n",
       "      <td>NaN</td>\n",
       "    </tr>\n",
       "    <tr>\n",
       "      <th>8790</th>\n",
       "      <td>&lt;NA&gt;</td>\n",
       "      <td>Deloraine</td>\n",
       "      <td>Box 850</td>\n",
       "      <td>NaN</td>\n",
       "      <td>ND</td>\n",
       "    </tr>\n",
       "  </tbody>\n",
       "</table>\n",
       "</div>"
      ],
      "text/plain": [
       "      EMPLOYER_STATE EMPLOYER_CITY      EMPLOYER_ADDRESS_1 EMPLOYER_ADDRESS_2  \\\n",
       "6187            <NA>      Coaldale                Box 1298                NaN   \n",
       "4555            <NA>    Quill Lake              PO Box 634                NaN   \n",
       "5602            <NA>    Lethbridge  1510 C 31 Street North                NaN   \n",
       "3802            <NA>    Hodgeville       Highway 19 South             Box 127   \n",
       "5498            <NA>  Fort Macleod         146 Manning Ave                NaN   \n",
       "3369            <NA>         Craik                 Box 222                NaN   \n",
       "12479           <NA>         Cairo         1511 Ridge Road                NaN   \n",
       "5289            <NA>      hargeisa     hargeisa somaliland      Mohamed haybe   \n",
       "4706            <NA>      Foremost       602 Center Street                NaN   \n",
       "8790            <NA>     Deloraine                 Box 850                NaN   \n",
       "\n",
       "      EMPLOYER_POC_STATE  \n",
       "6187                  CA  \n",
       "4555                 NaN  \n",
       "5602                 NaN  \n",
       "3802                 NaN  \n",
       "5498                 NaN  \n",
       "3369                 NaN  \n",
       "12479                 GA  \n",
       "5289                 NaN  \n",
       "4706                 NaN  \n",
       "8790                  ND  "
      ]
     },
     "execution_count": 8,
     "metadata": {},
     "output_type": "execute_result"
    }
   ],
   "source": [
    "#Make Sure all the rows under EMPLOYER_STATE has two digit state code\n",
    "disclosure['EMPLOYER_STATE'] =disclosure.EMPLOYER_STATE.astype(\"string\")\n",
    "disclosure.loc[disclosure.EMPLOYER_STATE.isnull(),\n",
    "          ['EMPLOYER_STATE', 'EMPLOYER_CITY', 'EMPLOYER_ADDRESS_1',\n",
    "          'EMPLOYER_ADDRESS_2', 'EMPLOYER_POC_STATE']].sample(n = 10, random_state = 444)\n",
    "\n",
    "## rj note: might want to consider allowing employer_poc_state to count\n",
    "## as state but left as is\n",
    "## i left in ones with missing states and they're just false for TRLA catchment\n"
   ]
  },
  {
   "cell_type": "code",
   "execution_count": 9,
   "metadata": {},
   "outputs": [
    {
     "data": {
      "text/plain": [
       "False    0.713937\n",
       "True     0.286063\n",
       "Name: TRLA, dtype: float64"
      ]
     },
     "execution_count": 9,
     "metadata": {},
     "output_type": "execute_result"
    }
   ],
   "source": [
    "# Label TRLA Catchment State VS Remaining States\n",
    "## rj note- isin more efficient than long or chain\n",
    "TRLA_catchment = [\"TX\", \"MS\", \"AL\", \"TN\", \"KY\", \"LA\"]\n",
    "disclosure[\"TRLA\"] = np.where(disclosure.EMPLOYER_STATE.isin(TRLA_catchment), True, False)\n",
    "disclosure.TRLA.value_counts(normalize = True)"
   ]
  },
  {
   "cell_type": "code",
   "execution_count": 10,
   "metadata": {},
   "outputs": [
    {
     "data": {
      "text/plain": [
       "both          11756\n",
       "left_only      5027\n",
       "right_only        0\n",
       "Name: case_merge_status, dtype: int64"
      ]
     },
     "execution_count": 10,
     "metadata": {},
     "output_type": "execute_result"
    }
   ],
   "source": [
    "## left join addendums onto disclosures \n",
    "## using case number\n",
    "## rj note- i'm just merging english addendums (addendum_eng)\n",
    "## to keep code consistent but you may want to add back\n",
    "## the spanish ones (addendum_agg)\n",
    "merged_data_left = pd.merge(disclosure,\n",
    "                             addendum_eng,\n",
    "                             left_on = 'CASE_NUMBER',\n",
    "                             right_on = 'CASE_NUMBER',\n",
    "                             how = \"left\",\n",
    "                             indicator = \"case_merge_status\")\n",
    "merged_data_left.case_merge_status.value_counts()"
   ]
  },
  {
   "cell_type": "markdown",
   "metadata": {},
   "source": [
    "# Diagnostics of ones with and without english addendums"
   ]
  },
  {
   "cell_type": "code",
   "execution_count": 11,
   "metadata": {},
   "outputs": [
    {
     "data": {
      "text/plain": [
       "ANTICIPATED_NUMBER_OF_HOURS    float64\n",
       "WAGE_OFFER                     float64\n",
       "TOTAL_WORKERS_NEEDED           float64\n",
       "dtype: object"
      ]
     },
     "execution_count": 11,
     "metadata": {},
     "output_type": "execute_result"
    },
    {
     "data": {
      "text/plain": [
       "ANTICIPATED_NUMBER_OF_HOURS    float64\n",
       "WAGE_OFFER                     float64\n",
       "TOTAL_WORKERS_NEEDED           float64\n",
       "dtype: object"
      ]
     },
     "execution_count": 11,
     "metadata": {},
     "output_type": "execute_result"
    }
   ],
   "source": [
    "## rj note: i cleaned this up to just use the full left join\n",
    "merged_data_left[['ANTICIPATED_NUMBER_OF_HOURS', 'WAGE_OFFER', 'TOTAL_WORKERS_NEEDED']].dtypes\n",
    "\n",
    "## rj note; combining data w/ code rather than excel\n",
    "## kept this as float rather than as string ($) might have been an \n",
    "## excel formatting thing so kept this code in case issue reoccurs\n",
    "## but probally fine to delete:\n",
    "if merged_data_left.dtypes['WAGE_OFFER'] != \"float64\":\n",
    "      \n",
    "    merged_data_left['WAGE_OFFER'] = merged_data_left['WAGE_OFFER'].str.replace('$', '')\n",
    "    merged_data_left['WAGE_OFFER'] = merged_data_left['WAGE_OFFER'].str.replace(',', '')\n",
    "    merged_data_left['WAGE_OFFER'] = merged_data_left['WAGE_OFFER'].astype(float)\n",
    "        \n",
    "merged_data_left[['ANTICIPATED_NUMBER_OF_HOURS', 'WAGE_OFFER', 'TOTAL_WORKERS_NEEDED']].dtypes"
   ]
  },
  {
   "cell_type": "code",
   "execution_count": 12,
   "metadata": {
    "scrolled": false
   },
   "outputs": [
    {
     "data": {
      "text/html": [
       "<div>\n",
       "<style scoped>\n",
       "    .dataframe tbody tr th:only-of-type {\n",
       "        vertical-align: middle;\n",
       "    }\n",
       "\n",
       "    .dataframe tbody tr th {\n",
       "        vertical-align: top;\n",
       "    }\n",
       "\n",
       "    .dataframe thead tr th {\n",
       "        text-align: left;\n",
       "    }\n",
       "\n",
       "    .dataframe thead tr:last-of-type th {\n",
       "        text-align: right;\n",
       "    }\n",
       "</style>\n",
       "<table border=\"1\" class=\"dataframe\">\n",
       "  <thead>\n",
       "    <tr>\n",
       "      <th></th>\n",
       "      <th>WAGE_OFFER</th>\n",
       "      <th>TOTAL_WORKERS_NEEDED</th>\n",
       "      <th>ANTICIPATED_NUMBER_OF_HOURS</th>\n",
       "      <th>PIECE_RATE_OFFER</th>\n",
       "      <th>WORK_EXPERIENCE_MONTHS</th>\n",
       "      <th>TOTAL_OCCUPANCY</th>\n",
       "      <th>LIFTING_AMOUNT</th>\n",
       "      <th>TRLA</th>\n",
       "    </tr>\n",
       "    <tr>\n",
       "      <th></th>\n",
       "      <th>median</th>\n",
       "      <th>median</th>\n",
       "      <th>median</th>\n",
       "      <th>median</th>\n",
       "      <th>median</th>\n",
       "      <th>median</th>\n",
       "      <th>median</th>\n",
       "      <th>mean</th>\n",
       "    </tr>\n",
       "    <tr>\n",
       "      <th>case_merge_status_descriptive</th>\n",
       "      <th></th>\n",
       "      <th></th>\n",
       "      <th></th>\n",
       "      <th></th>\n",
       "      <th></th>\n",
       "      <th></th>\n",
       "      <th></th>\n",
       "      <th></th>\n",
       "    </tr>\n",
       "  </thead>\n",
       "  <tbody>\n",
       "    <tr>\n",
       "      <th>English addendum</th>\n",
       "      <td>13.62</td>\n",
       "      <td>6.0</td>\n",
       "      <td>40.0</td>\n",
       "      <td>0.0</td>\n",
       "      <td>3.0</td>\n",
       "      <td>8.0</td>\n",
       "      <td>60.0</td>\n",
       "      <td>0.296359</td>\n",
       "    </tr>\n",
       "    <tr>\n",
       "      <th>No English addendum</th>\n",
       "      <td>12.67</td>\n",
       "      <td>5.0</td>\n",
       "      <td>40.0</td>\n",
       "      <td>0.0</td>\n",
       "      <td>3.0</td>\n",
       "      <td>8.0</td>\n",
       "      <td>60.0</td>\n",
       "      <td>0.261985</td>\n",
       "    </tr>\n",
       "  </tbody>\n",
       "</table>\n",
       "</div>"
      ],
      "text/plain": [
       "                              WAGE_OFFER TOTAL_WORKERS_NEEDED  \\\n",
       "                                  median               median   \n",
       "case_merge_status_descriptive                                   \n",
       "English addendum                   13.62                  6.0   \n",
       "No English addendum                12.67                  5.0   \n",
       "\n",
       "                              ANTICIPATED_NUMBER_OF_HOURS PIECE_RATE_OFFER  \\\n",
       "                                                   median           median   \n",
       "case_merge_status_descriptive                                                \n",
       "English addendum                                     40.0              0.0   \n",
       "No English addendum                                  40.0              0.0   \n",
       "\n",
       "                              WORK_EXPERIENCE_MONTHS TOTAL_OCCUPANCY  \\\n",
       "                                              median          median   \n",
       "case_merge_status_descriptive                                          \n",
       "English addendum                                 3.0             8.0   \n",
       "No English addendum                              3.0             8.0   \n",
       "\n",
       "                              LIFTING_AMOUNT      TRLA  \n",
       "                                      median      mean  \n",
       "case_merge_status_descriptive                           \n",
       "English addendum                        60.0  0.296359  \n",
       "No English addendum                     60.0  0.261985  "
      ]
     },
     "execution_count": 12,
     "metadata": {},
     "output_type": "execute_result"
    }
   ],
   "source": [
    "## add more informative column\n",
    "merged_data_left['case_merge_status_descriptive'] = np.where(merged_data_left.case_merge_status == \n",
    "                                                        \"left_only\",\n",
    "                                                        \"No English addendum\",\n",
    "                                                        \"English addendum\")\n",
    "merged_data_left.groupby('case_merge_status_descriptive').agg(\n",
    "        {\n",
    "         \"WAGE_OFFER\": [\"median\"],\n",
    "         \"TOTAL_WORKERS_NEEDED\": [\"median\"],\n",
    "        \"ANTICIPATED_NUMBER_OF_HOURS\": [\"median\"],\n",
    "        \"PIECE_RATE_OFFER\": [\"median\"],\n",
    "        \"WORK_EXPERIENCE_MONTHS\" : [\"median\"],\n",
    "        \"TOTAL_OCCUPANCY\" : [\"median\"],\n",
    "        \"LIFTING_AMOUNT\" : [\"median\"],\n",
    "        \"TRLA\": np.mean} # rj note: added TRLA to hear since we can just take mean\n",
    "        )\n",
    "\n",
    "#percentage of non TRLA states is higher\n",
    "#compare wages? is it that there's lower wage rate so there's no listing?\n"
   ]
  },
  {
   "cell_type": "markdown",
   "metadata": {},
   "source": [
    "## Plot breakdown of addendums by TRLA or not "
   ]
  },
  {
   "cell_type": "markdown",
   "metadata": {},
   "source": [
    "### Pie chart"
   ]
  },
  {
   "cell_type": "code",
   "execution_count": 13,
   "metadata": {},
   "outputs": [
    {
     "data": {
      "text/plain": [
       "both          11756\n",
       "left_only      5027\n",
       "right_only        0\n",
       "Name: case_merge_status, dtype: int64"
      ]
     },
     "execution_count": 13,
     "metadata": {},
     "output_type": "execute_result"
    }
   ],
   "source": [
    "merged_data_left.case_merge_status.value_counts()"
   ]
  },
  {
   "cell_type": "code",
   "execution_count": 14,
   "metadata": {},
   "outputs": [
    {
     "data": {
      "text/plain": [
       "[3710, 1317]"
      ]
     },
     "execution_count": 14,
     "metadata": {},
     "output_type": "execute_result"
    },
    {
     "data": {
      "text/plain": [
       "[8272, 3484]"
      ]
     },
     "execution_count": 14,
     "metadata": {},
     "output_type": "execute_result"
    },
    {
     "data": {
      "text/plain": [
       "([<matplotlib.patches.Wedge at 0x7f8f7674c610>,\n",
       "  <matplotlib.patches.Wedge at 0x7f8f7674caf0>],\n",
       " [Text(-0.7479859598457378, 0.8065463432894916, 'Non-TRLA'),\n",
       "  Text(0.747985884331416, -0.8065464133209879, 'TRLA')],\n",
       " [Text(-0.40799234173403875, 0.43993436906699535, '73.8%'),\n",
       "  Text(0.40799230054440866, -0.4399344072659933, '26.2%')])"
      ]
     },
     "execution_count": 14,
     "metadata": {},
     "output_type": "execute_result"
    },
    {
     "data": {
      "text/plain": [
       "Text(0.5, 1.0, 'Jobs without English addendums\\n(not in text analysis)')"
      ]
     },
     "execution_count": 14,
     "metadata": {},
     "output_type": "execute_result"
    },
    {
     "data": {
      "text/plain": [
       "Text(0.5, 1.0, 'Jobs with English addendums\\n(in text analysis)')"
      ]
     },
     "execution_count": 14,
     "metadata": {},
     "output_type": "execute_result"
    },
    {
     "data": {
      "text/plain": [
       "([<matplotlib.patches.Wedge at 0x7f8f7675c490>,\n",
       "  <matplotlib.patches.Wedge at 0x7f8f7675c940>],\n",
       " [Text(-0.6566997938979479, 0.8824655124674239, 'Non-TRLA'),\n",
       "  Text(0.6566997938979482, -0.8824655124674237, 'TRLA')],\n",
       " [Text(-0.35819988758069876, 0.48134482498223113, '70.4%'),\n",
       "  Text(0.358199887580699, -0.481344824982231, '29.6%')])"
      ]
     },
     "execution_count": 14,
     "metadata": {},
     "output_type": "execute_result"
    },
    {
     "data": {
      "image/png": "[encoded data removed]",
      "text/plain": [
       "<Figure size 720x720 with 2 Axes>"
      ]
     },
     "metadata": {},
     "output_type": "display_data"
    }
   ],
   "source": [
    "no_add = [merged_data_left[(merged_data_left.case_merge_status == \"left_only\") &\n",
    "                     (~merged_data_left.TRLA)].shape[0],\n",
    "            merged_data_left[(merged_data_left.case_merge_status == \"left_only\") &\n",
    "                     (merged_data_left.TRLA)].shape[0]]\n",
    "no_add\n",
    "\n",
    "add = [merged_data_left[(merged_data_left.case_merge_status == \"both\") &\n",
    "                     (~merged_data_left.TRLA)].shape[0],\n",
    "            merged_data_left[(merged_data_left.case_merge_status == \"both\") &\n",
    "                     (merged_data_left.TRLA)].shape[0]]\n",
    "add\n",
    "labels = ['Non-TRLA', 'TRLA'] \n",
    "fig, (plt1,plt2) = plt.subplots(1,2,figsize=(10,10))\n",
    "plt1.pie(no_add, labels=labels, autopct='%1.1f%%')\n",
    "plt1.set_title(\"Jobs without English addendums\\n(not in text analysis)\")\n",
    "plt2.set_title(\"Jobs with English addendums\\n(in text analysis)\")\n",
    "plt2.pie(add, labels=labels, autopct='%1.1f%%')"
   ]
  },
  {
   "cell_type": "markdown",
   "metadata": {},
   "source": [
    "# Write outputs for next script\n",
    "\n",
    "- pkl and csv (in case linebreak) of inner join between (1) disclosure and (2) aggregated, English-only addendums"
   ]
  },
  {
   "cell_type": "code",
   "execution_count": 17,
   "metadata": {},
   "outputs": [
    {
     "data": {
      "text/plain": [
       "(11756, 143)"
      ]
     },
     "execution_count": 17,
     "metadata": {},
     "output_type": "execute_result"
    }
   ],
   "source": [
    "## same join as above but inner join rather than left join\n",
    "merged_data_inner = pd.merge(disclosure,\n",
    "                             addendum_eng,\n",
    "                             left_on = 'CASE_NUMBER',\n",
    "                             right_on = 'CASE_NUMBER',\n",
    "                             how = \"inner\")\n",
    "merged_data_inner.shape\n",
    "\n",
    "## write pkl and csv form to Dropbox folder\n",
    "merged_data_inner.to_csv(DROPBOX_DATA_PATH + \"merged_addendums_jobdisclosures.csv\",\n",
    "                        index = False)\n",
    "merged_data_inner.to_pickle(DROPBOX_DATA_PATH + \"merged_addendums_jobdisclosures.pkl\")"
   ]
  },
  {
   "cell_type": "code",
   "execution_count": 15,
   "metadata": {},
   "outputs": [],
   "source": [
    "## Older code - delete if i'm correct in discarding due to redundancy\n",
    "\n",
    "# # ## look at one that doesnt have job listing\n",
    "# merged_left_check=merged_data_left[merged_data_left.case_merge_status==\"left_only\"]\n",
    "# merged_data[['ANTICIPATED_NUMBER_OF_HOURS', 'WAGE_OFFER', 'TOTAL_WORKERS_NEEDED']].dtypes\n",
    "# merged_left_check[['ANTICIPATED_NUMBER_OF_HOURS', 'WAGE_OFFER', 'TOTAL_WORKERS_NEEDED']].dtypes\n",
    "# merged_left_check['WAGE_OFFER'] = merged_left_check['WAGE_OFFER'].str.replace('$', '')\n",
    "# merged_left_check['WAGE_OFFER'] = merged_left_check['WAGE_OFFER'].str.replace(',', '')\n",
    "# merged_left_check['WAGE_OFFER'] = merged_left_check['WAGE_OFFER'].astype(float)\n",
    "# #merged_data['WAGE_OFFER'] = merged_data['WAGE_OFFER'].str.replace('$', '')\n",
    "# #merged_data['WAGE_OFFER'] = merged_data['WAGE_OFFER'].str.replace(',', '')\n",
    "# #merged_data['WAGE_OFFER']= merged_data['WAGE_OFFER'].astype(float)\n",
    "# merged_data[['ANTICIPATED_NUMBER_OF_HOURS', 'WAGE_OFFER', 'TOTAL_WORKERS_NEEDED']].dtypes\n",
    "# merged_left_check[['ANTICIPATED_NUMBER_OF_HOURS', 'WAGE_OFFER', 'TOTAL_WORKERS_NEEDED']].dtypes\n",
    "\n",
    "# ## inner join  \n",
    "# merged_data = pd.merge(addendum,\n",
    "#                              disclosure,\n",
    "#                              left_on = 'CASE_NUMBER',\n",
    "#                              right_on = 'CASE_NUMBER',\n",
    "#                              how = \"inner\",\n",
    "#                              indicator = \"case_merge_status\")\n",
    "# merged_data.case_merge_status.value_counts()\n",
    "\n",
    "\n",
    "##Subset Data to TRLA catchment\n",
    "\n",
    "# merged_TRLA=merged_data[merged_data.TRLA==True]\n",
    "# merged_TRLA\n",
    "# #Subset Data to remaining states\n",
    "# merged_nonTRLA=merged_data[merged_data.TRLA==False]\n",
    "# merged_nonTRLA"
   ]
  }
 ],
 "metadata": {
  "kernelspec": {
   "display_name": "Python 3",
   "language": "python",
   "name": "python3"
  },
  "language_info": {
   "codemirror_mode": {
    "name": "ipython",
    "version": 3
   },
   "file_extension": ".py",
   "mimetype": "text/x-python",
   "name": "python",
   "nbconvert_exporter": "python",
   "pygments_lexer": "ipython3",
   "version": "3.8.3"
  }
 },
 "nbformat": 4,
 "nbformat_minor": 5
}
