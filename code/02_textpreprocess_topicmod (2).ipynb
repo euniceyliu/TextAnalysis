{
 "cells": [
  {
   "cell_type": "code",
   "execution_count": 2,
   "id": "fitting-solid",
   "metadata": {},
   "outputs": [],
   "source": [
    "## helpful packages\n",
    "import pandas as pd\n",
    "import numpy as np\n",
    "import random\n",
    "import re\n",
    "import recordlinkage\n",
    "from sklearn.feature_extraction.text import TfidfVectorizer\n",
    "## nltk imports\n",
    "from nltk.tokenize import word_tokenize, wordpunct_tokenize\n",
    "from nltk.corpus import stopwords\n",
    "from nltk.stem.porter import PorterStemmer\n",
    "from gensim import corpora, models\n",
    "# ! pip install xlrd\n",
    "# ! pip install openpyxl\n",
    "## lda \n",
    "from gensim import corpora\n",
    "import gensim\n",
    "import plotnine\n",
    "from plotnine import *\n",
    "## repeated printouts\n",
    "from IPython.core.interactiveshell import InteractiveShell\n",
    "InteractiveShell.ast_node_interactivity = \"all\"\n",
    "\n",
    "## define constants and pathnames\n",
    "GITHUB_DATA_PATH = \"../data/\"\n",
    "DROPBOX_DATA_PATH = \"../../../qss20_finalproj_rawdata/textasdata/\"\n",
    "MERGED_TEXT_JOBS_PKL = \"../merged_addendums_jobdisclosures.pkl\"\n",
    "MERGED_TEXT_JOBS_CSV = \"../merged_addendums_jobdisclosures.csv\"\n",
    "\n",
    "\n",
    "MERGED_TEXT_JOBS_PKL_DB = DROPBOX_DATA_PATH + \"merged_addendums_jobdisclosures.pkl\""
   ]
  },
  {
   "cell_type": "markdown",
   "id": "reasonable-wings",
   "metadata": {},
   "source": [
    "# Functions"
   ]
  },
  {
   "cell_type": "code",
   "execution_count": 3,
   "id": "national-donor",
   "metadata": {},
   "outputs": [],
   "source": [
    "## Text Processing\n",
    "def processtext(row, colname, stopword_list,indicator, min_token_length = 4):\n",
    "    \n",
    "    ## get string form of listing\n",
    "    string_of_col = str(row[colname]).lower()\n",
    "    try:\n",
    "        ## remove stopwords \n",
    "        remove_stop = [word for word in wordpunct_tokenize(string_of_col)\n",
    "                      if word not in stopword_list]\n",
    "        if indicator==\"stem\":\n",
    "            processed_string = \" \".join([porter.stem(i) \n",
    "                        for i in remove_stop if \n",
    "                        i.isalpha() and len(i) >= min_token_length])\n",
    "        return(processed_string)\n",
    "    except:\n",
    "        processed_string = \"\" # to handle data errors where not actually text\n",
    "        return(processed_string)\n"
   ]
  },
  {
   "cell_type": "code",
   "execution_count": 74,
   "id": "returning-doctor",
   "metadata": {},
   "outputs": [],
   "source": [
    "vectorizer = TfidfVectorizer()\n",
    "def tfidf_topwords(df,label):\n",
    "    tf_idf = vectorizer.fit_transform(df['text_preprocess'])\n",
    "    top_words = pd.DataFrame(tf_idf.toarray(), columns=vectorizer.get_feature_names())\n",
    "    stored=top_words.sum(axis=0).sort_values(ascending=False).head(10)\n",
    "    plot=stored.plot.bar(title=label)\n",
    "    plot.set_xlabel('Words')\n",
    "    plot.set_ylabel('Tf-idf Score')\n",
    "    fig = plot.get_figure()\n",
    "#     fig.savefig(\"../output/\" + label+\".png\")"
   ]
  },
  {
   "cell_type": "code",
   "execution_count": 75,
   "id": "innocent-perspective",
   "metadata": {},
   "outputs": [],
   "source": [
    "#function to create table suitable for plotting LDA modeling's result\n",
    "def df_onetopic(one_listoftup, i):\n",
    "    words = [one_tup[0] for one_tup in one_listoftup]\n",
    "    weights = [one_tup[1] for one_tup in one_listoftup]\n",
    "    words_weights_df = pd.DataFrame({'words': words, 'weights': weights})\n",
    "    words_weights_df['topic'] = \"topic_\" + str(i)\n",
    "    return(words_weights_df)"
   ]
  },
  {
   "cell_type": "code",
   "execution_count": 76,
   "id": "theoretical-acquisition",
   "metadata": {},
   "outputs": [],
   "source": [
    "## topic modeling\n",
    "def topic_model(df):\n",
    "    df = df[df.text_preprocess != \"\"].copy()\n",
    "    tokenized_text = [wordpunct_tokenize(one_text) for one_text in \n",
    "                                      df.text_preprocess]\n",
    "    text_proc_dict = corpora.Dictionary(tokenized_text)\n",
    "    text_proc_dict.filter_extremes(no_below = round(df.shape[0]*0.02),\n",
    "                             no_above = round(df.shape[0]*0.98))\n",
    "    corpus_fromdict_proc = [text_proc_dict.doc2bow(one_text) \n",
    "                   for one_text in tokenized_text]\n",
    "    ldamod = gensim.models.ldamodel.LdaModel(corpus_fromdict_proc, \n",
    "                                         num_topics = 3, id2word=text_proc_dict, \n",
    "                                         passes=6, alpha = 'auto',\n",
    "                                        per_word_topics = True)\n",
    "    topics_fromshow2 = [ldamod.show_topic(topicid = i, topn = 10) for i in [0, 1, 2]]\n",
    "    return(topics_fromshow2)\n",
    "    "
   ]
  },
  {
   "cell_type": "markdown",
   "id": "altered-storm",
   "metadata": {},
   "source": [
    "# Load merged data from previous script"
   ]
  },
  {
   "cell_type": "code",
   "execution_count": 4,
   "id": "biblical-treasurer",
   "metadata": {},
   "outputs": [
    {
     "data": {
      "text/plain": [
       "(13127, 143)"
      ]
     },
     "execution_count": 4,
     "metadata": {},
     "output_type": "execute_result"
    }
   ],
   "source": [
    "LOAD_LOCAL = True\n",
    "if LOAD_LOCAL:\n",
    "    merged_data = pd.read_pickle(\"../merged_addendums_jobdisclosures.pkl\")\n",
    "else:\n",
    "    merged_data = pd.read_pickle(MERGED_TEXT_JOBS_PKL_DB)\n",
    "    \n",
    "merged_data.shape\n",
    "\n",
    "# # test csv; same num rows so should be fine to load as alternative if needed\n",
    "# merged_data_csv = pd.read_csv(DROPBOX_DATA_PATH + MERGED_TEXT_JOBS_CSV)\n",
    "# # merged_data_csv.shape"
   ]
  },
  {
   "cell_type": "markdown",
   "id": "compressed-island",
   "metadata": {},
   "source": [
    "# Preprocess text"
   ]
  },
  {
   "cell_type": "code",
   "execution_count": 5,
   "id": "liked-balloon",
   "metadata": {},
   "outputs": [],
   "source": [
    "RUN_WITH_SAMPLE = True\n",
    "if RUN_WITH_SAMPLE:\n",
    "    merged_data = merged_data.sample(n = 500)\n"
   ]
  },
  {
   "cell_type": "code",
   "execution_count": 6,
   "id": "competitive-professor",
   "metadata": {},
   "outputs": [],
   "source": [
    "work_pattern = r\"[a-zA-Z]*work[a-zA-Z]*\"\n",
    "all_listings = \"\".join(merged_data.JOB_DESCRIPTION)\n",
    "all_tokens = word_tokenize(all_listings)\n",
    "\n",
    "all_matches_work = [one_word for one_word in all_tokens if \n",
    "                   re.match(work_pattern, one_word)]\n",
    "\n",
    "other_stopwords = [\"after\", \"before\", \"employer\", \"employ\", \"job\", \"although\", \"provide\", \"complete\",\"hour\",\"time\",\n",
    "                  \"begin\",\"list\",\"require\",\"transportation\"]+ all_matches_work\n",
    "\n",
    "list_stopwords = stopwords.words(\"english\")\n",
    "\n",
    "stopwords_complete = list_stopwords + other_stopwords\n",
    "    \n",
    "porter = PorterStemmer()\n"
   ]
  },
  {
   "cell_type": "code",
   "execution_count": 7,
   "id": "found-number",
   "metadata": {},
   "outputs": [
    {
     "data": {
      "text/html": [
       "<div>\n",
       "<style scoped>\n",
       "    .dataframe tbody tr th:only-of-type {\n",
       "        vertical-align: middle;\n",
       "    }\n",
       "\n",
       "    .dataframe tbody tr th {\n",
       "        vertical-align: top;\n",
       "    }\n",
       "\n",
       "    .dataframe thead th {\n",
       "        text-align: right;\n",
       "    }\n",
       "</style>\n",
       "<table border=\"1\" class=\"dataframe\">\n",
       "  <thead>\n",
       "    <tr style=\"text-align: right;\">\n",
       "      <th></th>\n",
       "      <th>CASE_NUMBER</th>\n",
       "      <th>CASE_STATUS</th>\n",
       "      <th>RECEIVED_DATE</th>\n",
       "      <th>DECISION_DATE</th>\n",
       "      <th>TYPE_OF_EMPLOYER_APPLICATION</th>\n",
       "      <th>H2A_LABOR_CONTRACTOR</th>\n",
       "      <th>NATURE_OF_TEMPORARY_NEED</th>\n",
       "      <th>EMERGENCY_FILING</th>\n",
       "      <th>EMPLOYER_NAME</th>\n",
       "      <th>TRADE_NAME_DBA</th>\n",
       "      <th>...</th>\n",
       "      <th>PHONE_TO_APPLY</th>\n",
       "      <th>EMAIL_TO_APPLY</th>\n",
       "      <th>WEBSITE_TO_APPLY</th>\n",
       "      <th>TOTAL_ADDENDUM_A_RECORDS</th>\n",
       "      <th>HOURLY_SCHEDULE_BEGIN</th>\n",
       "      <th>HOURLY_SCHEDULE_END</th>\n",
       "      <th>TRLA</th>\n",
       "      <th>JOB_DESCRIPTION</th>\n",
       "      <th>raw_text_length</th>\n",
       "      <th>text_preprocess</th>\n",
       "    </tr>\n",
       "  </thead>\n",
       "  <tbody>\n",
       "    <tr>\n",
       "      <th>11322</th>\n",
       "      <td>H-300-20246-801059</td>\n",
       "      <td>Determination Issued - Certification</td>\n",
       "      <td>2020-09-10 11:30:01.310</td>\n",
       "      <td>2020-10-22 00:00:00.000</td>\n",
       "      <td>Individual Employer</td>\n",
       "      <td>N</td>\n",
       "      <td>Seasonal</td>\n",
       "      <td>N</td>\n",
       "      <td>Marvin Opp Farms</td>\n",
       "      <td>NaN</td>\n",
       "      <td>...</td>\n",
       "      <td>17013483562</td>\n",
       "      <td>NaN</td>\n",
       "      <td>www.jobsnd.com</td>\n",
       "      <td>1.0</td>\n",
       "      <td>8:00 AM</td>\n",
       "      <td>5:00 PM</td>\n",
       "      <td>False</td>\n",
       "      <td>Workers who qualify for inbound and/or outboun...</td>\n",
       "      <td>2907</td>\n",
       "      <td>qualifi inbound outbound travel reimburs entit...</td>\n",
       "    </tr>\n",
       "    <tr>\n",
       "      <th>4118</th>\n",
       "      <td>H-300-20062-367979</td>\n",
       "      <td>Determination Issued - Certification</td>\n",
       "      <td>2020-03-17 23:55:28.750</td>\n",
       "      <td>2020-03-26 00:00:00.000</td>\n",
       "      <td>Individual Employer</td>\n",
       "      <td>Y</td>\n",
       "      <td>Seasonal</td>\n",
       "      <td>N</td>\n",
       "      <td>Abel Tehandon Pineda</td>\n",
       "      <td>Tehandon Nursery</td>\n",
       "      <td>...</td>\n",
       "      <td>18285925016</td>\n",
       "      <td>tehandon-nursery@hotmail.com</td>\n",
       "      <td>www.ncworks.gov</td>\n",
       "      <td>2.0</td>\n",
       "      <td>NaN</td>\n",
       "      <td>NaN</td>\n",
       "      <td>False</td>\n",
       "      <td>Full Growing Season Commitment:  The job offer...</td>\n",
       "      <td>3571</td>\n",
       "      <td>full grow season commit offer requir avail hou...</td>\n",
       "    </tr>\n",
       "    <tr>\n",
       "      <th>9559</th>\n",
       "      <td>H-300-19336-173635</td>\n",
       "      <td>Determination Issued - Certification</td>\n",
       "      <td>2019-12-10 16:03:34.870</td>\n",
       "      <td>2020-01-22 00:00:00.000</td>\n",
       "      <td>Individual Employer</td>\n",
       "      <td>N</td>\n",
       "      <td>Seasonal</td>\n",
       "      <td>N</td>\n",
       "      <td>Ag. Inc.</td>\n",
       "      <td>NaN</td>\n",
       "      <td>...</td>\n",
       "      <td>14766160930</td>\n",
       "      <td>flyaginc@gmail.com</td>\n",
       "      <td>NaN</td>\n",
       "      <td>0.0</td>\n",
       "      <td>NaN</td>\n",
       "      <td>NaN</td>\n",
       "      <td>False</td>\n",
       "      <td>Employer provided transportation will be airpl...</td>\n",
       "      <td>5568</td>\n",
       "      <td>provid airplan charter oper vehicl common mean...</td>\n",
       "    </tr>\n",
       "    <tr>\n",
       "      <th>10383</th>\n",
       "      <td>H-300-19309-128251</td>\n",
       "      <td>Determination Issued - Certification (Expired)</td>\n",
       "      <td>2019-11-14 19:11:29.810000</td>\n",
       "      <td>2019-12-05 00:00:00.000000</td>\n",
       "      <td>Individual Employer</td>\n",
       "      <td>N</td>\n",
       "      <td>Seasonal</td>\n",
       "      <td>N</td>\n",
       "      <td>AB&amp;T Zaunbrecher Farms</td>\n",
       "      <td>NaN</td>\n",
       "      <td>...</td>\n",
       "      <td>13375814092</td>\n",
       "      <td>a2zfamily@cox.net</td>\n",
       "      <td>NaN</td>\n",
       "      <td>2.0</td>\n",
       "      <td>NaN</td>\n",
       "      <td>NaN</td>\n",
       "      <td>True</td>\n",
       "      <td>Deductions for FICA, federal or state tax with...</td>\n",
       "      <td>3824</td>\n",
       "      <td>deduct fica feder state withhold includ court ...</td>\n",
       "    </tr>\n",
       "    <tr>\n",
       "      <th>9461</th>\n",
       "      <td>H-300-19336-174643</td>\n",
       "      <td>Determination Issued - Certification</td>\n",
       "      <td>2019-12-09 15:39:25.630</td>\n",
       "      <td>2020-01-16 00:00:00.000</td>\n",
       "      <td>Individual Employer</td>\n",
       "      <td>N</td>\n",
       "      <td>Seasonal</td>\n",
       "      <td>N</td>\n",
       "      <td>Edward J Vincent Farms</td>\n",
       "      <td>NaN</td>\n",
       "      <td>...</td>\n",
       "      <td>13375238029</td>\n",
       "      <td>apv@kaplantel.net</td>\n",
       "      <td>laworks.net</td>\n",
       "      <td>1.0</td>\n",
       "      <td>NaN</td>\n",
       "      <td>NaN</td>\n",
       "      <td>True</td>\n",
       "      <td>Time may vary due to mechanical, availability ...</td>\n",
       "      <td>76</td>\n",
       "      <td>vari mechan avail crop weather condit</td>\n",
       "    </tr>\n",
       "  </tbody>\n",
       "</table>\n",
       "<p>5 rows × 144 columns</p>\n",
       "</div>"
      ],
      "text/plain": [
       "              CASE_NUMBER                                     CASE_STATUS  \\\n",
       "11322  H-300-20246-801059            Determination Issued - Certification   \n",
       "4118   H-300-20062-367979            Determination Issued - Certification   \n",
       "9559   H-300-19336-173635            Determination Issued - Certification   \n",
       "10383  H-300-19309-128251  Determination Issued - Certification (Expired)   \n",
       "9461   H-300-19336-174643            Determination Issued - Certification   \n",
       "\n",
       "                    RECEIVED_DATE               DECISION_DATE  \\\n",
       "11322     2020-09-10 11:30:01.310     2020-10-22 00:00:00.000   \n",
       "4118      2020-03-17 23:55:28.750     2020-03-26 00:00:00.000   \n",
       "9559      2019-12-10 16:03:34.870     2020-01-22 00:00:00.000   \n",
       "10383  2019-11-14 19:11:29.810000  2019-12-05 00:00:00.000000   \n",
       "9461      2019-12-09 15:39:25.630     2020-01-16 00:00:00.000   \n",
       "\n",
       "      TYPE_OF_EMPLOYER_APPLICATION H2A_LABOR_CONTRACTOR  \\\n",
       "11322          Individual Employer                    N   \n",
       "4118           Individual Employer                    Y   \n",
       "9559           Individual Employer                    N   \n",
       "10383          Individual Employer                    N   \n",
       "9461           Individual Employer                    N   \n",
       "\n",
       "      NATURE_OF_TEMPORARY_NEED EMERGENCY_FILING           EMPLOYER_NAME  \\\n",
       "11322                 Seasonal                N        Marvin Opp Farms   \n",
       "4118                  Seasonal                N    Abel Tehandon Pineda   \n",
       "9559                  Seasonal                N                Ag. Inc.   \n",
       "10383                 Seasonal                N  AB&T Zaunbrecher Farms   \n",
       "9461                  Seasonal                N  Edward J Vincent Farms   \n",
       "\n",
       "          TRADE_NAME_DBA  ... PHONE_TO_APPLY                EMAIL_TO_APPLY  \\\n",
       "11322                NaN  ...    17013483562                           NaN   \n",
       "4118   Tehandon Nursery   ...    18285925016  tehandon-nursery@hotmail.com   \n",
       "9559                 NaN  ...    14766160930            flyaginc@gmail.com   \n",
       "10383                NaN  ...    13375814092             a2zfamily@cox.net   \n",
       "9461                 NaN  ...    13375238029             apv@kaplantel.net   \n",
       "\n",
       "      WEBSITE_TO_APPLY TOTAL_ADDENDUM_A_RECORDS HOURLY_SCHEDULE_BEGIN  \\\n",
       "11322   www.jobsnd.com                      1.0               8:00 AM   \n",
       "4118   www.ncworks.gov                      2.0                   NaN   \n",
       "9559               NaN                      0.0                   NaN   \n",
       "10383              NaN                      2.0                   NaN   \n",
       "9461       laworks.net                      1.0                   NaN   \n",
       "\n",
       "      HOURLY_SCHEDULE_END   TRLA  \\\n",
       "11322             5:00 PM  False   \n",
       "4118                  NaN  False   \n",
       "9559                  NaN  False   \n",
       "10383                 NaN   True   \n",
       "9461                  NaN   True   \n",
       "\n",
       "                                         JOB_DESCRIPTION raw_text_length  \\\n",
       "11322  Workers who qualify for inbound and/or outboun...            2907   \n",
       "4118   Full Growing Season Commitment:  The job offer...            3571   \n",
       "9559   Employer provided transportation will be airpl...            5568   \n",
       "10383  Deductions for FICA, federal or state tax with...            3824   \n",
       "9461   Time may vary due to mechanical, availability ...              76   \n",
       "\n",
       "                                         text_preprocess  \n",
       "11322  qualifi inbound outbound travel reimburs entit...  \n",
       "4118   full grow season commit offer requir avail hou...  \n",
       "9559   provid airplan charter oper vehicl common mean...  \n",
       "10383  deduct fica feder state withhold includ court ...  \n",
       "9461               vari mechan avail crop weather condit  \n",
       "\n",
       "[5 rows x 144 columns]"
      ]
     },
     "execution_count": 7,
     "metadata": {},
     "output_type": "execute_result"
    }
   ],
   "source": [
    "\n",
    "merged_data['text_preprocess'] = merged_data.apply(processtext,\n",
    "                             axis = 1,\n",
    "                             args = [\"JOB_DESCRIPTION\", stopwords_complete,\"stem\"])\n",
    "merged_data.head()\n"
   ]
  },
  {
   "cell_type": "code",
   "execution_count": 8,
   "id": "pending-franklin",
   "metadata": {},
   "outputs": [],
   "source": [
    "## rj - above step takes awhile even on sample\n",
    "## so writing; as a flag, this is with the sample\n",
    "\n",
    "# merged_data.to_pickle(DROPBOX_DATA_PATH + \"merged_addendums_preprocessed.pkl\")"
   ]
  },
  {
   "cell_type": "markdown",
   "id": "global-ridge",
   "metadata": {},
   "source": [
    "# Subset Merged_Data to TRLA and NonTRLA States"
   ]
  },
  {
   "cell_type": "code",
   "execution_count": 9,
   "id": "realistic-decision",
   "metadata": {},
   "outputs": [],
   "source": [
    "# TRLA\n",
    "merged_TRLA=merged_data[merged_data.TRLA==True]\n",
    "# NonTRLA\n",
    "merged_nonTRLA=merged_data[merged_data.TRLA==False]"
   ]
  },
  {
   "cell_type": "markdown",
   "id": "determined-composer",
   "metadata": {},
   "source": [
    "### Quick overview of number of job orders in that year range: all, TRLA, non-TRLA (post merging)\n"
   ]
  },
  {
   "cell_type": "code",
   "execution_count": 10,
   "id": "quantitative-trouble",
   "metadata": {},
   "outputs": [
    {
     "data": {
      "text/plain": [
       "(500, 144)"
      ]
     },
     "execution_count": 10,
     "metadata": {},
     "output_type": "execute_result"
    },
    {
     "data": {
      "text/plain": [
       "(118, 144)"
      ]
     },
     "execution_count": 10,
     "metadata": {},
     "output_type": "execute_result"
    },
    {
     "data": {
      "text/plain": [
       "(382, 144)"
      ]
     },
     "execution_count": 10,
     "metadata": {},
     "output_type": "execute_result"
    }
   ],
   "source": [
    "# case number all\n",
    "merged_data.shape\n",
    "# case number trla\n",
    "merged_TRLA.shape\n",
    "# case number trla\n",
    "merged_nonTRLA.shape\n"
   ]
  },
  {
   "cell_type": "markdown",
   "id": "relative-differential",
   "metadata": {},
   "source": [
    "# Raw term frequency (Tf-Idf)"
   ]
  },
  {
   "cell_type": "code",
   "execution_count": 77,
   "id": "psychological-house",
   "metadata": {},
   "outputs": [
    {
     "data": {
      "image/png": "[encoded data removed]",
      "text/plain": [
       "<Figure size 432x288 with 1 Axes>"
      ]
     },
     "metadata": {
      "needs_background": "light"
     },
     "output_type": "display_data"
    }
   ],
   "source": [
    "tfidf_topwords(merged_TRLA,\"Tf-idf Reweighted Count of Top Words in TRLA States' H-2A Job Listings\")"
   ]
  },
  {
   "cell_type": "code",
   "execution_count": 78,
   "id": "appointed-civilization",
   "metadata": {},
   "outputs": [
    {
     "data": {
      "image/png": "[encoded data removed]",
      "text/plain": [
       "<Figure size 432x288 with 1 Axes>"
      ]
     },
     "metadata": {
      "needs_background": "light"
     },
     "output_type": "display_data"
    }
   ],
   "source": [
    "tfidf_topwords(merged_nonTRLA,\"Tf-idf Reweighted Count of Top Words in nonTRLA States' H-2A Job Listings\")"
   ]
  },
  {
   "cell_type": "markdown",
   "id": "american-passenger",
   "metadata": {},
   "source": [
    "# Investigate the stemmed word \"termin\" in the original corpus"
   ]
  },
  {
   "cell_type": "code",
   "execution_count": 79,
   "id": "endless-bernard",
   "metadata": {},
   "outputs": [],
   "source": [
    "\n",
    "pd.set_option('display.max_colwidth', None)\n",
    "termin=merged_data.loc[merged_data.JOB_DESCRIPTION.str.contains(\"termin\"),\n",
    "               \"JOB_DESCRIPTION\"].drop_duplicates().head(5)\n",
    "\n",
    "# termin\n"
   ]
  },
  {
   "cell_type": "markdown",
   "id": "herbal-juvenile",
   "metadata": {},
   "source": [
    "# LDA Topic Modeling"
   ]
  },
  {
   "cell_type": "markdown",
   "id": "juvenile-uncertainty",
   "metadata": {},
   "source": [
    "### Find the Top Words and Topic"
   ]
  },
  {
   "cell_type": "code",
   "execution_count": 80,
   "id": "adverse-insulin",
   "metadata": {},
   "outputs": [
    {
     "data": {
      "text/plain": [
       "[[('hous', 0.023835478),\n",
       "  ('employ', 0.012842826),\n",
       "  ('provid', 0.012355685),\n",
       "  ('must', 0.011337453),\n",
       "  ('termin', 0.007858688),\n",
       "  ('assign', 0.007141486),\n",
       "  ('cost', 0.0069898074),\n",
       "  ('plant', 0.00690775),\n",
       "  ('prior', 0.0067139603),\n",
       "  ('employe', 0.0066017588)],\n",
       " [('employ', 0.016103808),\n",
       "  ('hous', 0.01317571),\n",
       "  ('period', 0.012036119),\n",
       "  ('requir', 0.010908584),\n",
       "  ('must', 0.010643578),\n",
       "  ('termin', 0.008899821),\n",
       "  ('provid', 0.0083069485),\n",
       "  ('crop', 0.0077368896),\n",
       "  ('perform', 0.007426503),\n",
       "  ('place', 0.007181091)],\n",
       " [('hous', 0.013400238),\n",
       "  ('employ', 0.013390096),\n",
       "  ('rate', 0.012973574),\n",
       "  ('perform', 0.012550143),\n",
       "  ('supervisor', 0.011853486),\n",
       "  ('termin', 0.011599433),\n",
       "  ('wage', 0.011256323),\n",
       "  ('rule', 0.010706515),\n",
       "  ('properti', 0.010553351),\n",
       "  ('requir', 0.010460145)]]"
      ]
     },
     "execution_count": 80,
     "metadata": {},
     "output_type": "execute_result"
    },
    {
     "data": {
      "text/plain": [
       "[[('employ', 0.017906226),\n",
       "  ('requir', 0.015091914),\n",
       "  ('termin', 0.014796518),\n",
       "  ('must', 0.013072221),\n",
       "  ('period', 0.012789023),\n",
       "  ('perform', 0.010680441),\n",
       "  ('rate', 0.009966425),\n",
       "  ('hour', 0.00862849),\n",
       "  ('reason', 0.008492849),\n",
       "  ('hous', 0.0084356805)],\n",
       " [('hous', 0.015319055),\n",
       "  ('must', 0.0134849325),\n",
       "  ('employ', 0.012970612),\n",
       "  ('requir', 0.011056525),\n",
       "  ('provid', 0.009714331),\n",
       "  ('perform', 0.00859032),\n",
       "  ('period', 0.0077618794),\n",
       "  ('termin', 0.007179122),\n",
       "  ('harvest', 0.006909821),\n",
       "  ('field', 0.006005803)],\n",
       " [('employ', 0.018962888),\n",
       "  ('hous', 0.018289294),\n",
       "  ('period', 0.017303023),\n",
       "  ('place', 0.016071292),\n",
       "  ('subsist', 0.015298495),\n",
       "  ('contract', 0.01408138),\n",
       "  ('reimburs', 0.013826548),\n",
       "  ('employe', 0.013690953),\n",
       "  ('provid', 0.013574138),\n",
       "  ('requir', 0.011685059)]]"
      ]
     },
     "execution_count": 80,
     "metadata": {},
     "output_type": "execute_result"
    },
    {
     "data": {
      "text/plain": [
       "[[('must', 0.014423915),\n",
       "  ('hous', 0.01317703),\n",
       "  ('employ', 0.011728385),\n",
       "  ('termin', 0.010812773),\n",
       "  ('requir', 0.00984716),\n",
       "  ('period', 0.009586147),\n",
       "  ('perform', 0.008502711),\n",
       "  ('provid', 0.008272682),\n",
       "  ('supervisor', 0.0081457095),\n",
       "  ('crop', 0.0065639694)],\n",
       " [('employ', 0.017394282),\n",
       "  ('requir', 0.016938806),\n",
       "  ('perform', 0.012260974),\n",
       "  ('hous', 0.011771239),\n",
       "  ('termin', 0.011504416),\n",
       "  ('wage', 0.010670776),\n",
       "  ('employe', 0.010553186),\n",
       "  ('provid', 0.009854472),\n",
       "  ('period', 0.0093180165),\n",
       "  ('must', 0.009225381)],\n",
       " [('employ', 0.020731844),\n",
       "  ('hous', 0.01990432),\n",
       "  ('place', 0.016085936),\n",
       "  ('period', 0.015594747),\n",
       "  ('subsist', 0.013657195),\n",
       "  ('provid', 0.0127506545),\n",
       "  ('reimburs', 0.0119818235),\n",
       "  ('contract', 0.011129708),\n",
       "  ('cost', 0.010983305),\n",
       "  ('requir', 0.009980734)]]"
      ]
     },
     "execution_count": 80,
     "metadata": {},
     "output_type": "execute_result"
    }
   ],
   "source": [
    "create table suitable for plotting LDA modeling's result\n",
    "# def df_onetopic(one_listoftup, i):\n",
    "#     words = [one_tup[0] for one_tup in one_listoftup]\n",
    "#     weights = [one_tup[1] for one_tup in one_listoftup]\n",
    "#     words_weights_df = pd.DataFrame({'words': words, 'weights': weights})\n",
    "#     words_weights_df['topic'] = \"topic_\" + str(i)\n",
    "#     return(words_weights_df)\n",
    "topic_model(merged_TRLA)\n",
    "topic_model(merged_nonTRLA)\n",
    "topic_model(merged_data)\n",
    "\n"
   ]
  },
  {
   "cell_type": "code",
   "execution_count": 20,
   "id": "enclosed-exhibit",
   "metadata": {},
   "outputs": [],
   "source": [
    "# ## topic modeling (TRLA states)\n",
    "# def topic_model(df):\n",
    "#     df = df[df.text_preprocess != \"\"].copy()\n",
    "#     tokenized_text = [wordpunct_tokenize(one_text) for one_text in \n",
    "#                                       df.text_preprocess]\n",
    "#     text_proc_dict = corpora.Dictionary(tokenized_text)\n",
    "#     text_proc_dict.filter_extremes(no_below = round(df.shape[0]*0.02),\n",
    "#                              no_above = round(df.shape[0]*0.98))\n",
    "#     corpus_fromdict_proc = [text_proc_dict.doc2bow(one_text) \n",
    "#                    for one_text in tokenized_text]\n",
    "#     ldamod = gensim.models.ldamodel.LdaModel(corpus_fromdict_proc, \n",
    "#                                          num_topics = 3, id2word=text_proc_dict, \n",
    "#                                          passes=6, alpha = 'auto',\n",
    "#                                         per_word_topics = True)\n",
    "#     topics_fromshow2 = [ldamod.show_topic(topicid = i, topn = 10) for i in [0, 1, 2]]\n",
    "#     return(topics_fromshow2)\n",
    "    "
   ]
  },
  {
   "cell_type": "markdown",
   "id": "portable-mongolia",
   "metadata": {},
   "source": [
    "### Plot the topic and top words"
   ]
  },
  {
   "cell_type": "code",
   "execution_count": 81,
   "id": "thick-alert",
   "metadata": {},
   "outputs": [],
   "source": [
    "#plot TRLA model\n",
    "all_summary = []\n",
    "for i in range(0, len(topic_model(merged_TRLA))):\n",
    "    one_summary = df_onetopic(topic_model(merged_TRLA)[i], i)\n",
    "    all_summary.append(one_summary)\n",
    "all_summary_df = pd.concat(all_summary)\n",
    "# ggplot(all_summary_df) +\\\n",
    "#     geom_bar(aes(x=\"reorder(words,weights)\",y=\"weights\"),stat=\"identity\", fill=\"brown\")+ facet_wrap(\"topic\",scales = \"free\")+theme(subplots_adjust={'wspace': 0.30})+\\\n",
    "#     theme(axis_text_x = element_text(angle = 80)) + \\\n",
    "#     labs(x=\"Words\", y=\"Weights\", title=\"Topics & Corresponded Words in TRLA States' H-2A Job Listings\")\n",
    "\n",
    "#plot nonTRLA model\n",
    "all_summary = []\n",
    "for i in range(0, len(topic_model(merged_nonTRLA))):\n",
    "    one_summary = df_onetopic(topic_model(merged_nonTRLA)[i], i)\n",
    "    all_summary.append(one_summary)\n",
    "all_summary_df = pd.concat(all_summary)\n",
    "# ggplot(all_summary_df) +\\\n",
    "#     geom_bar(aes(x=\"reorder(words,weights)\",y=\"weights\"),stat=\"identity\", fill=\"brown\")+ facet_wrap(\"topic\",scales = \"free\")+theme(subplots_adjust={'wspace': 0.30})+\\\n",
    "#     theme(axis_text_x = element_text(angle = 80)) + \\\n",
    "#     labs(x=\"Words\", y=\"Weights\", title=\"Topics & Corresponded Words in non-TRLA States' H-2A Job Listings\")\n"
   ]
  },
  {
   "cell_type": "markdown",
   "id": "million-saying",
   "metadata": {},
   "source": [
    "### Further Investigate each corpus' topic & top words  \n",
    "- Find the listings that correspon to the top words and came up with topic"
   ]
  },
  {
   "cell_type": "code",
   "execution_count": 69,
   "id": "polar-conservative",
   "metadata": {},
   "outputs": [],
   "source": [
    "\n",
    "# Tobacco (TRLA)\n",
    "tobacco=merged_TRLA[(merged_TRLA['JOB_DESCRIPTION'].str.contains('tobacco')) & (merged_TRLA['JOB_DESCRIPTION'].str.contains('plant'))\n",
    "                   & (merged_TRLA['JOB_DESCRIPTION'].str.contains('period'))& (merged_TRLA['JOB_DESCRIPTION'].str.contains('subsist'))\n",
    "                   & (merged_TRLA['JOB_DESCRIPTION'].str.contains('stick'))]\n",
    "\n",
    "# tobacco.JOB_DESCRIPTION.drop_duplicates()"
   ]
  },
  {
   "cell_type": "code",
   "execution_count": 73,
   "id": "thousand-melbourne",
   "metadata": {},
   "outputs": [],
   "source": [
    "# Termination (TRLA)\n",
    "termination=merged_TRLA[(merged_TRLA['JOB_DESCRIPTION'].str.contains('condit')) & (merged_TRLA['JOB_DESCRIPTION'].str.contains('hour'))\n",
    "                   & (merged_TRLA['JOB_DESCRIPTION'].str.contains('termin'))]\n",
    "# termination.JOB_DESCRIPTION.drop_duplicates()\n"
   ]
  },
  {
   "cell_type": "code",
   "execution_count": 70,
   "id": "unexpected-helping",
   "metadata": {},
   "outputs": [],
   "source": [
    "# Compensation (TRLA)\n",
    "compensation=merged_TRLA[(merged_TRLA['JOB_DESCRIPTION'].str.contains('wage')) & (merged_TRLA['JOB_DESCRIPTION'].str.contains('rate'))\n",
    "                   & (merged_TRLA['JOB_DESCRIPTION'].str.contains('perform'))& (merged_TRLA['JOB_DESCRIPTION'].str.contains('supervisor'))&\n",
    "                      (merged_TRLA['JOB_DESCRIPTION'].str.contains('requir')) ]\n",
    "# compensation.JOB_DESCRIPTION.drop_duplicates()"
   ]
  },
  {
   "cell_type": "code",
   "execution_count": 72,
   "id": "durable-preservation",
   "metadata": {},
   "outputs": [],
   "source": [
    "# Termination (nonTRLA)\n",
    "contract=merged_nonTRLA[(merged_nonTRLA['JOB_DESCRIPTION'].str.contains('contract')) & (merged_nonTRLA['JOB_DESCRIPTION'].str.contains('rate'))\n",
    "                   & (merged_nonTRLA['JOB_DESCRIPTION'].str.contains('place'))]\n",
    "# contract.JOB_DESCRIPTION.drop_duplicates()"
   ]
  },
  {
   "cell_type": "code",
   "execution_count": 71,
   "id": "bound-luxury",
   "metadata": {},
   "outputs": [],
   "source": [
    "# harvest(nonTRLA)\n",
    "\n",
    "harvest=merged_nonTRLA[(merged_nonTRLA['JOB_DESCRIPTION'].str.contains('harvest')) & (merged_nonTRLA['JOB_DESCRIPTION'].str.contains('field'))\n",
    "                   & (merged_nonTRLA['JOB_DESCRIPTION'].str.contains('perform'))]\n",
    "# harvest.JOB_DESCRIPTION.drop_duplicates()"
   ]
  }
 ],
 "metadata": {
  "kernelspec": {
   "display_name": "Python 3",
   "language": "python",
   "name": "python3"
  },
  "language_info": {
   "codemirror_mode": {
    "name": "ipython",
    "version": 3
   },
   "file_extension": ".py",
   "mimetype": "text/x-python",
   "name": "python",
   "nbconvert_exporter": "python",
   "pygments_lexer": "ipython3",
   "version": "3.8.8"
  }
 },
 "nbformat": 4,
 "nbformat_minor": 5
}
