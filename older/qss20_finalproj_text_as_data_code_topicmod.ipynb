{
 "cells": [
  {
   "cell_type": "code",
   "execution_count": 1,
   "id": "australian-batman",
   "metadata": {},
   "outputs": [],
   "source": [
    "## helpful packages\n",
    "import pandas as pd\n",
    "import numpy as np\n",
    "import random\n",
    "import re\n",
    "import recordlinkage\n",
    "from sklearn.feature_extraction.text import TfidfVectorizer\n",
    "## nltk imports\n",
    "from nltk.tokenize import word_tokenize, wordpunct_tokenize\n",
    "from nltk.corpus import stopwords\n",
    "from nltk.stem.porter import PorterStemmer\n",
    "from gensim import corpora, models\n",
    "# ! pip install xlrd\n",
    "# ! pip install openpyxl\n",
    "## lda \n",
    "from gensim import corpora\n",
    "import gensim\n",
    "\n",
    "## repeated printouts\n",
    "from IPython.core.interactiveshell import InteractiveShell\n",
    "InteractiveShell.ast_node_interactivity = \"all\""
   ]
  },
  {
   "cell_type": "code",
   "execution_count": 9,
   "id": "brazilian-childhood",
   "metadata": {
    "scrolled": true
   },
   "outputs": [],
   "source": [
    "# load data\n",
    "addendum = pd.read_csv(\"FOIA_2021-F-05932_raw_data_combined.csv\")\n",
    "disclosure = pd.read_csv (\"H-2A_Disclosure_Data_FY_combined.csv\")"
   ]
  },
  {
   "cell_type": "code",
   "execution_count": 10,
   "id": "compressed-class",
   "metadata": {},
   "outputs": [
    {
     "data": {
      "text/plain": [
       "102317"
      ]
     },
     "execution_count": 10,
     "metadata": {},
     "output_type": "execute_result"
    },
    {
     "data": {
      "text/plain": [
       "99620"
      ]
     },
     "execution_count": 10,
     "metadata": {},
     "output_type": "execute_result"
    }
   ],
   "source": [
    "# Dropping duplicates in addenda\n",
    "len(addendum)\n",
    "addendum = addendum.drop_duplicates([\"CASE_NUMBER\", \"SECTION_DETAILS\"])\n",
    "len(addendum)"
   ]
  },
  {
   "cell_type": "code",
   "execution_count": 11,
   "id": "superior-suicide",
   "metadata": {},
   "outputs": [
    {
     "name": "stderr",
     "output_type": "stream",
     "text": [
      "<ipython-input-11-d989dcb26796>:5: FutureWarning: The default value of regex will change from True to False in a future version.\n",
      "  addendum = addendum.groupby(['CASE_NUMBER'])['SECTION_DETAILS'].apply(lambda text: ''.join(text.to_string(index=False))).str.replace('(\\\\n)', '').reset_index()\n"
     ]
    }
   ],
   "source": [
    "# collapsing identical case/sections into one listing each\n",
    "\n",
    "# addendum[\"SECTION_DETAILS\"].to_string()\n",
    "\n",
    "addendum = addendum.groupby(['CASE_NUMBER'])['SECTION_DETAILS'].apply(lambda text: ''.join(text.to_string(index=False))).str.replace('(\\\\n)', '').reset_index()\n",
    "\n"
   ]
  },
  {
   "cell_type": "code",
   "execution_count": 12,
   "id": "magnetic-admission",
   "metadata": {},
   "outputs": [],
   "source": [
    "## Above code modified from fifth answer at https://stackoverflow.com/questions/27298178/concatenate-strings-from-several-rows-using-pandas-groupby\n",
    "## because original groupby was including a bunch of linebreaks"
   ]
  },
  {
   "cell_type": "code",
   "execution_count": 13,
   "id": "lucky-liechtenstein",
   "metadata": {},
   "outputs": [],
   "source": [
    "# Rename Column\n",
    "addendum = addendum.rename(columns = {\"SECTION_DETAILS\":\"JOB_DESCRIPTION\"})"
   ]
  },
  {
   "cell_type": "code",
   "execution_count": 14,
   "id": "proprietary-accommodation",
   "metadata": {},
   "outputs": [],
   "source": [
    "#Remove Job Listings that Contain Spanish Words\n",
    "spanish_words = ['compensación',\n",
    " 'ocupación',\n",
    " 'pago',\n",
    " 'transporte',\n",
    " 'reglas',\n",
    " 'contrato',\n",
    " 'horastrabajadores',\n",
    " 'parte',\n",
    " 'tarifas',\n",
    " 'cuartos',\n",
    " 'trabajo',\n",
    " 'registros',\n",
    " 'adicionales',\n",
    " 'comidas',\n",
    " 'empleo',\n",
    " 'terminación',\n",
    " 'vivienda',\n",
    " 'empleador',\n",
    " 'adicionales',\n",
    " 'frecuencia',\n",
    " 'producción',\n",
    " 'liquidación',\n",
    " 'comida',\n",
    " 'herramientas',\n",
    " 'prueba',\n",
    " 'diaria',\n",
    " 'tarifas',\n",
    " 'parado',\n",
    " 'adicionales',\n",
    " 'cobertura',\n",
    " 'proporcionados',\n",
    " 'parte',\n",
    " 'abandono',\n",
    " 'deducciones',\n",
    " 'causa',\n",
    " 'garantías',\n",
    " 'divulgación',\n",
    " 'comidas',\n",
    " 'política',\n",
    " 'disciplina',\n",
    " 'despidos',\n",
    " 'derechos',\n",
    " 'imposibilidad',\n",
    " 'detalles',\n",
    " 'divulgación',\n",
    " 'bloqueo',\n",
    " 'abandono',\n",
    " 'ganancias',\n",
    " 'cobertura',\n",
    " 'pedidos',\n",
    " 'pago',\n",
    " 'oportunidad',\n",
    " 'trabajo']\n",
    "\n",
    "addendum = addendum[~addendum.JOB_DESCRIPTION.str.contains('|'.join(spanish_words))]"
   ]
  },
  {
   "cell_type": "code",
   "execution_count": 15,
   "id": "parallel-sleep",
   "metadata": {},
   "outputs": [],
   "source": [
    "## Text Processing\n",
    "def processtext(row, colname, stopword_list, min_token_length = 4):\n",
    "    \n",
    "    ## get string form of listing\n",
    "    string_of_col = str(row[colname]).lower()\n",
    "    try:\n",
    "        ## remove stopwords \n",
    "        \n",
    "        remove_stop = [word for word in wordpunct_tokenize(string_of_col)\n",
    "                      if word not in stopword_list]\n",
    "        processed_string = \" \".join([porter.stem(i) \n",
    "                        for i in remove_stop if \n",
    "                        i.isalpha() and len(i) >= min_token_length])\n",
    "        return(processed_string)\n",
    "    except:\n",
    "        processed_string = \"\" # to handle data errors where not actually text\n",
    "        return(processed_string)\n"
   ]
  },
  {
   "cell_type": "code",
   "execution_count": 16,
   "id": "adjusted-orchestra",
   "metadata": {},
   "outputs": [],
   "source": [
    "work_pattern = r\"[a-zA-Z]*work[a-zA-Z]*\"\n",
    "all_listings = \"\".join(addendum.JOB_DESCRIPTION)\n",
    "all_tokens = word_tokenize(all_listings)\n",
    "\n",
    "all_matches_work = [one_word for one_word in all_tokens if \n",
    "                   re.match(work_pattern, one_word)]\n",
    "\n",
    "other_stopwords = [\"after\", \"before\", \"employer\", \"employ\", \"job\"]+ all_matches_work\n",
    "\n",
    "list_stopwords = stopwords.words(\"english\")\n",
    "\n",
    "stopwords_complete = list_stopwords + other_stopwords\n",
    "    \n",
    "porter = PorterStemmer()\n"
   ]
  },
  {
   "cell_type": "code",
   "execution_count": 18,
   "id": "military-index",
   "metadata": {},
   "outputs": [
    {
     "data": {
      "text/html": [
       "<div>\n",
       "<style scoped>\n",
       "    .dataframe tbody tr th:only-of-type {\n",
       "        vertical-align: middle;\n",
       "    }\n",
       "\n",
       "    .dataframe tbody tr th {\n",
       "        vertical-align: top;\n",
       "    }\n",
       "\n",
       "    .dataframe thead th {\n",
       "        text-align: right;\n",
       "    }\n",
       "</style>\n",
       "<table border=\"1\" class=\"dataframe\">\n",
       "  <thead>\n",
       "    <tr style=\"text-align: right;\">\n",
       "      <th></th>\n",
       "      <th>CASE_NUMBER</th>\n",
       "      <th>JOB_DESCRIPTION</th>\n",
       "      <th>text_preprocess</th>\n",
       "    </tr>\n",
       "  </thead>\n",
       "  <tbody>\n",
       "    <tr>\n",
       "      <th>0</th>\n",
       "      <td>H-300-19274-066154</td>\n",
       "      <td>Operating large farm tractors and equipment as...</td>\n",
       "      <td>oper larg farm tractor equip pleas contact poi...</td>\n",
       "    </tr>\n",
       "    <tr>\n",
       "      <th>1</th>\n",
       "      <td>H-300-19274-066174</td>\n",
       "      <td>Employer will furnish free and convenient cook...</td>\n",
       "      <td>furnish free conveni cooki three month experi ...</td>\n",
       "    </tr>\n",
       "    <tr>\n",
       "      <th>2</th>\n",
       "      <td>H-300-19274-066180</td>\n",
       "      <td>INBOUND 1) Advance the worker the required tra...</td>\n",
       "      <td>inbound advanc requir tran provid cost whether...</td>\n",
       "    </tr>\n",
       "    <tr>\n",
       "      <th>3</th>\n",
       "      <td>H-300-19274-066199</td>\n",
       "      <td>For workers who are provided housing, transpor...</td>\n",
       "      <td>provid hous transport previous advanc transpo ...</td>\n",
       "    </tr>\n",
       "    <tr>\n",
       "      <th>4</th>\n",
       "      <td>H-300-19274-066237</td>\n",
       "      <td>The inbound transportation will be reimbursed ...</td>\n",
       "      <td>inbound transport reimburs</td>\n",
       "    </tr>\n",
       "  </tbody>\n",
       "</table>\n",
       "</div>"
      ],
      "text/plain": [
       "          CASE_NUMBER                                    JOB_DESCRIPTION  \\\n",
       "0  H-300-19274-066154  Operating large farm tractors and equipment as...   \n",
       "1  H-300-19274-066174  Employer will furnish free and convenient cook...   \n",
       "2  H-300-19274-066180  INBOUND 1) Advance the worker the required tra...   \n",
       "3  H-300-19274-066199  For workers who are provided housing, transpor...   \n",
       "4  H-300-19274-066237  The inbound transportation will be reimbursed ...   \n",
       "\n",
       "                                     text_preprocess  \n",
       "0  oper larg farm tractor equip pleas contact poi...  \n",
       "1  furnish free conveni cooki three month experi ...  \n",
       "2  inbound advanc requir tran provid cost whether...  \n",
       "3  provid hous transport previous advanc transpo ...  \n",
       "4                         inbound transport reimburs  "
      ]
     },
     "execution_count": 18,
     "metadata": {},
     "output_type": "execute_result"
    }
   ],
   "source": [
    "\n",
    "addendum['text_preprocess'] = addendum.apply(processtext,\n",
    "                             axis = 1,\n",
    "                             args = [\"JOB_DESCRIPTION\", stopwords_complete])\n",
    "addendum.head()"
   ]
  },
  {
   "cell_type": "code",
   "execution_count": 19,
   "id": "effective-reach",
   "metadata": {},
   "outputs": [],
   "source": [
    "#Make Sure all the rows under EMPLOYER_STATE has two digit state code\n",
    "disclosure.EMPLOYER_STATE=disclosure.EMPLOYER_STATE.astype(\"string\")\n",
    "disclosure=disclosure[~disclosure.EMPLOYER_STATE.isnull()]\n",
    "assert all(disclosure.EMPLOYER_STATE.str.len()==2), \"All the states in debar are not two-digits after the cleaning\"\n"
   ]
  },
  {
   "cell_type": "code",
   "execution_count": 20,
   "id": "persistent-majority",
   "metadata": {},
   "outputs": [],
   "source": [
    "# Label TRLA Catchment State VS Remaining States\n",
    "disclosure[\"TRLA\"] = np.where((disclosure[\"EMPLOYER_STATE\"] == \"TX\") | \n",
    "                                          (disclosure[\"EMPLOYER_STATE\"] == \"MS\")|(disclosure[\"EMPLOYER_STATE\"] == \"LA\")|\n",
    "                              (disclosure[\"EMPLOYER_STATE\"] == \"KY\")|(disclosure[\"EMPLOYER_STATE\"] == \"AL\")|(disclosure[\"EMPLOYER_STATE\"] == \n",
    "                                                                                                          \"TN\"), True, False)"
   ]
  },
  {
   "cell_type": "code",
   "execution_count": 21,
   "id": "noticed-motorcycle",
   "metadata": {},
   "outputs": [],
   "source": [
    "#Merging"
   ]
  },
  {
   "cell_type": "code",
   "execution_count": 22,
   "id": "white-stock",
   "metadata": {},
   "outputs": [],
   "source": [
    "# merging testing code (left_join)\n",
    "merged_data_left = pd.merge(disclosure,\n",
    "                             addendum,\n",
    "                             left_on = 'CASE_NUMBER',\n",
    "                             right_on = 'CASE_NUMBER',\n",
    "                             how = \"left\",\n",
    "                             indicator = \"case_merge_status\")"
   ]
  },
  {
   "cell_type": "code",
   "execution_count": 23,
   "id": "geological-tuesday",
   "metadata": {
    "scrolled": true
   },
   "outputs": [],
   "source": [
    "# ## The one that doesnt have job listing\n",
    "merged_left_check = merged_data_left[['case_merge_status', 'CASE_NUMBER',\"JOB_DESCRIPTION\",\"TRLA\",\"EMPLOYER_STATE\"]]\n",
    "merged_left_check=merged_left_check[merged_left_check.case_merge_status==\"left_only\"]\n",
    "\n"
   ]
  },
  {
   "cell_type": "code",
   "execution_count": 24,
   "id": "raised-caribbean",
   "metadata": {},
   "outputs": [
    {
     "data": {
      "text/plain": [
       "both          11742\n",
       "left_only         0\n",
       "right_only        0\n",
       "Name: case_merge_status, dtype: int64"
      ]
     },
     "execution_count": 24,
     "metadata": {},
     "output_type": "execute_result"
    }
   ],
   "source": [
    "## inner join  \n",
    "merged_data = pd.merge(addendum,\n",
    "                             disclosure,\n",
    "                             left_on = 'CASE_NUMBER',\n",
    "                             right_on = 'CASE_NUMBER',\n",
    "                             how = \"inner\",\n",
    "                             indicator = \"case_merge_status\")\n",
    "merged_data.case_merge_status.value_counts()\n"
   ]
  },
  {
   "cell_type": "code",
   "execution_count": 28,
   "id": "compliant-happening",
   "metadata": {},
   "outputs": [
    {
     "data": {
      "text/plain": [
       "False    3708\n",
       "True     1317\n",
       "Name: TRLA, dtype: int64"
      ]
     },
     "execution_count": 28,
     "metadata": {},
     "output_type": "execute_result"
    },
    {
     "data": {
      "text/plain": [
       "False    8258\n",
       "True     3484\n",
       "Name: TRLA, dtype: int64"
      ]
     },
     "execution_count": 28,
     "metadata": {},
     "output_type": "execute_result"
    }
   ],
   "source": [
    "# Proportion of the removed data that is TRLA/nonTRLA before inner join and after inner join (that are used to make the pie chart) \n",
    "merged_left_check.TRLA.value_counts()\n",
    "merged_data.TRLA.value_counts()"
   ]
  },
  {
   "cell_type": "code",
   "execution_count": 29,
   "id": "interim-franchise",
   "metadata": {
    "scrolled": true
   },
   "outputs": [],
   "source": [
    "#Subset Data to TRLA catchment\n",
    "merged_TRLA=merged_data[merged_data.TRLA==True]\n",
    "#Subset Data to remaining states\n",
    "merged_nonTRLA=merged_data[merged_data.TRLA==False]\n"
   ]
  },
  {
   "cell_type": "code",
   "execution_count": 31,
   "id": "dried-estonia",
   "metadata": {},
   "outputs": [
    {
     "data": {
      "text/plain": [
       "70     16.\\tAny worker who physically threatens anoth...\n",
       "191    Employer reserves the right to pay all domesti...\n",
       "238    16.\\tAny worker who physically threatens anoth...\n",
       "256    16.\\tAny worker who physically threatens anoth...\n",
       "274    Employer reserves the right to pay all domesti...\n",
       "Name: JOB_DESCRIPTION, dtype: object"
      ]
     },
     "execution_count": 31,
     "metadata": {},
     "output_type": "execute_result"
    }
   ],
   "source": [
    "# Find out where \"threaten\" locate\n",
    "\n",
    "merged_TRLA[merged_TRLA['JOB_DESCRIPTION'].str.contains(\"threaten\")].JOB_DESCRIPTION.head()"
   ]
  },
  {
   "cell_type": "code",
   "execution_count": 32,
   "id": "radical-receiver",
   "metadata": {},
   "outputs": [
    {
     "data": {
      "text/plain": [
       "Text(0.5, 0, 'Words')"
      ]
     },
     "execution_count": 32,
     "metadata": {},
     "output_type": "execute_result"
    },
    {
     "data": {
      "text/plain": [
       "Text(0, 0.5, 'Tf-idf Score')"
      ]
     },
     "execution_count": 32,
     "metadata": {},
     "output_type": "execute_result"
    },
    {
     "data": {
      "image/png": "[encoded data removed]",
      "text/plain": [
       "<Figure size 432x288 with 1 Axes>"
      ]
     },
     "metadata": {
      "needs_background": "light"
     },
     "output_type": "display_data"
    }
   ],
   "source": [
    "## Top Words In Combined Data\n",
    "vectorizer = TfidfVectorizer()\n",
    "tf_idf = vectorizer.fit_transform(merged_data['text_preprocess'])\n",
    "top_combined = pd.DataFrame(tf_idf.toarray(), columns=vectorizer.get_feature_names())\n",
    "stored=top_combined.sum(axis=0).sort_values(ascending=False).head(10)\n",
    "trla_count=stored.plot.bar(title = \"Tf-idf Reweighted Count of Top Words in Job Listings of the Entire Corpus\")\n",
    "trla_count.set_xlabel('Words')\n",
    "trla_count.set_ylabel('Tf-idf Score')"
   ]
  },
  {
   "cell_type": "code",
   "execution_count": 33,
   "id": "partial-disability",
   "metadata": {},
   "outputs": [
    {
     "data": {
      "text/plain": [
       "provid       596.782530\n",
       "transport    481.512094\n",
       "termin       419.011745\n",
       "advanc       405.955708\n",
       "requir       389.037194\n",
       "inbound      346.409261\n",
       "hous         345.890161\n",
       "subsist      341.369122\n",
       "offer        264.954792\n",
       "compens      264.881496\n",
       "dtype: float64"
      ]
     },
     "execution_count": 33,
     "metadata": {},
     "output_type": "execute_result"
    },
    {
     "data": {
      "text/plain": [
       "Text(0.5, 0, 'Words')"
      ]
     },
     "execution_count": 33,
     "metadata": {},
     "output_type": "execute_result"
    },
    {
     "data": {
      "text/plain": [
       "Text(0, 0.5, 'Tf-idf Score')"
      ]
     },
     "execution_count": 33,
     "metadata": {},
     "output_type": "execute_result"
    },
    {
     "data": {
      "image/png": "[encoded data removed]",
      "text/plain": [
       "<Figure size 432x288 with 1 Axes>"
      ]
     },
     "metadata": {
      "needs_background": "light"
     },
     "output_type": "display_data"
    }
   ],
   "source": [
    "## topic modeling (Top Words In non TRLA)\n",
    "vectorizer = TfidfVectorizer()\n",
    "tf_idf = vectorizer.fit_transform(merged_nonTRLA['text_preprocess'])\n",
    "top_combined_nonTRLA = pd.DataFrame(tf_idf.toarray(), columns=vectorizer.get_feature_names())\n",
    "stored_nontrla=top_combined_nonTRLA.sum(axis=0).sort_values(ascending=False).head(10)\n",
    "stored_nontrla\n",
    "trla_count=stored_nontrla.plot.bar(title = \"Tf-idf Reweighted Count of Top Words in Non TRLA States' H-2A Job Lisitngs\")\n",
    "trla_count.set_xlabel('Words')\n",
    "trla_count.set_ylabel('Tf-idf Score')"
   ]
  },
  {
   "cell_type": "code",
   "execution_count": 34,
   "id": "nervous-voice",
   "metadata": {},
   "outputs": [
    {
     "data": {
      "text/plain": [
       "complet     322.281283\n",
       "time        258.822949\n",
       "appli       248.042945\n",
       "domest      245.683466\n",
       "tani        245.150555\n",
       "threaten    245.150555\n",
       "anoth       245.132074\n",
       "legal       244.840919\n",
       "physic      244.544634\n",
       "although    243.350935\n",
       "dtype: float64"
      ]
     },
     "execution_count": 34,
     "metadata": {},
     "output_type": "execute_result"
    },
    {
     "data": {
      "text/plain": [
       "Text(0.5, 0, 'Words')"
      ]
     },
     "execution_count": 34,
     "metadata": {},
     "output_type": "execute_result"
    },
    {
     "data": {
      "text/plain": [
       "Text(0, 0.5, 'Tf-idf Score')"
      ]
     },
     "execution_count": 34,
     "metadata": {},
     "output_type": "execute_result"
    },
    {
     "data": {
      "image/png": "[encoded data removed]",
      "text/plain": [
       "<Figure size 432x288 with 1 Axes>"
      ]
     },
     "metadata": {
      "needs_background": "light"
     },
     "output_type": "display_data"
    }
   ],
   "source": [
    "## topic modeling (Top Words In Non-TRLA)\n",
    "vectorizer = TfidfVectorizer()\n",
    "tf_idf = vectorizer.fit_transform(merged_TRLA['text_preprocess'])\n",
    "top_combined_TRLA = pd.DataFrame(tf_idf.toarray(), columns=vectorizer.get_feature_names())\n",
    "stored_trla=top_combined_TRLA.sum(axis=0).sort_values(ascending=False).head(10)\n",
    "stored_trla\n",
    "trla_count=stored_trla.plot.bar(title = \"Tf-idf Reweighted Count of Top Words in TRLA States' H-2A Job Listings\")\n",
    "trla_count.set_xlabel('Words')\n",
    "trla_count.set_ylabel('Tf-idf Score')"
   ]
  },
  {
   "cell_type": "code",
   "execution_count": 35,
   "id": "motivated-calendar",
   "metadata": {},
   "outputs": [
    {
     "name": "stdout",
     "output_type": "stream",
     "text": [
      "(0, '0.047*\"anoth\" + 0.047*\"threaten\" + 0.046*\"tani\"')\n",
      "(1, '0.045*\"cont\" + 0.024*\"rule\" + 0.023*\"transport\"')\n",
      "(2, '0.095*\"mechan\" + 0.095*\"vari\" + 0.075*\"time\"')\n"
     ]
    }
   ],
   "source": [
    "## topic modeling (TRLA states)\n",
    "\n",
    "merged_TRLA = merged_TRLA[merged_TRLA.text_preprocess != \"\"].copy()\n",
    "\n",
    "tokenized_text_TRLA = [wordpunct_tokenize(one_text) for one_text in \n",
    "                                      merged_TRLA.text_preprocess]\n",
    "\n",
    "## preprocess and estimate topicmod\n",
    "### create dictionary\n",
    "text_proc_dict_TRLA = corpora.Dictionary(tokenized_text_TRLA)\n",
    "### filter dictionary- using 2% as bounds\n",
    "text_proc_dict_TRLA.filter_extremes(no_below = round(merged_TRLA.shape[0]*0.02),\n",
    "                             no_above = round(merged_TRLA.shape[0]*0.98))\n",
    "\n",
    "### create corpus from dictionary\n",
    "corpus_fromdict_proc = [text_proc_dict_TRLA.doc2bow(one_text) \n",
    "                   for one_text in tokenized_text_TRLA]\n",
    "\n",
    "tfidf = models.TfidfModel(corpus_fromdict_proc)\n",
    "corpus_tfidf = tfidf[corpus_fromdict_proc]\n",
    "\n",
    "lda_model_tfidf = gensim.models.LdaMulticore(corpus_tfidf, num_topics=3 , id2word=text_proc_dict_TRLA, passes=6,\n",
    "                                        per_word_topics = True, random_state = 91988)\n",
    "\n",
    "topics = lda_model_tfidf.print_topics(num_words = 3)\n",
    "for topic in topics:\n",
    "    print(topic)"
   ]
  },
  {
   "cell_type": "code",
   "execution_count": 36,
   "id": "controlled-generic",
   "metadata": {},
   "outputs": [
    {
     "data": {
      "text/html": [
       "<div>\n",
       "<style scoped>\n",
       "    .dataframe tbody tr th:only-of-type {\n",
       "        vertical-align: middle;\n",
       "    }\n",
       "\n",
       "    .dataframe tbody tr th {\n",
       "        vertical-align: top;\n",
       "    }\n",
       "\n",
       "    .dataframe thead th {\n",
       "        text-align: right;\n",
       "    }\n",
       "</style>\n",
       "<table border=\"1\" class=\"dataframe\">\n",
       "  <thead>\n",
       "    <tr style=\"text-align: right;\">\n",
       "      <th></th>\n",
       "      <th>words</th>\n",
       "      <th>weights</th>\n",
       "      <th>topic</th>\n",
       "    </tr>\n",
       "  </thead>\n",
       "  <tbody>\n",
       "    <tr>\n",
       "      <th>0</th>\n",
       "      <td>anoth</td>\n",
       "      <td>0.046555</td>\n",
       "      <td>topic_0</td>\n",
       "    </tr>\n",
       "    <tr>\n",
       "      <th>1</th>\n",
       "      <td>threaten</td>\n",
       "      <td>0.046501</td>\n",
       "      <td>topic_0</td>\n",
       "    </tr>\n",
       "    <tr>\n",
       "      <th>2</th>\n",
       "      <td>tani</td>\n",
       "      <td>0.046492</td>\n",
       "      <td>topic_0</td>\n",
       "    </tr>\n",
       "    <tr>\n",
       "      <th>3</th>\n",
       "      <td>legal</td>\n",
       "      <td>0.046472</td>\n",
       "      <td>topic_0</td>\n",
       "    </tr>\n",
       "    <tr>\n",
       "      <th>4</th>\n",
       "      <td>appli</td>\n",
       "      <td>0.046284</td>\n",
       "      <td>topic_0</td>\n",
       "    </tr>\n",
       "    <tr>\n",
       "      <th>5</th>\n",
       "      <td>physic</td>\n",
       "      <td>0.045886</td>\n",
       "      <td>topic_0</td>\n",
       "    </tr>\n",
       "    <tr>\n",
       "      <th>6</th>\n",
       "      <td>domest</td>\n",
       "      <td>0.045855</td>\n",
       "      <td>topic_0</td>\n",
       "    </tr>\n",
       "    <tr>\n",
       "      <th>7</th>\n",
       "      <td>although</td>\n",
       "      <td>0.045630</td>\n",
       "      <td>topic_0</td>\n",
       "    </tr>\n",
       "    <tr>\n",
       "      <th>8</th>\n",
       "      <td>list</td>\n",
       "      <td>0.044865</td>\n",
       "      <td>topic_0</td>\n",
       "    </tr>\n",
       "    <tr>\n",
       "      <th>9</th>\n",
       "      <td>reserv</td>\n",
       "      <td>0.040827</td>\n",
       "      <td>topic_0</td>\n",
       "    </tr>\n",
       "    <tr>\n",
       "      <th>0</th>\n",
       "      <td>cont</td>\n",
       "      <td>0.045232</td>\n",
       "      <td>topic_1</td>\n",
       "    </tr>\n",
       "    <tr>\n",
       "      <th>1</th>\n",
       "      <td>rule</td>\n",
       "      <td>0.024484</td>\n",
       "      <td>topic_1</td>\n",
       "    </tr>\n",
       "    <tr>\n",
       "      <th>2</th>\n",
       "      <td>transport</td>\n",
       "      <td>0.022552</td>\n",
       "      <td>topic_1</td>\n",
       "    </tr>\n",
       "    <tr>\n",
       "      <th>3</th>\n",
       "      <td>hous</td>\n",
       "      <td>0.021669</td>\n",
       "      <td>topic_1</td>\n",
       "    </tr>\n",
       "    <tr>\n",
       "      <th>4</th>\n",
       "      <td>contact</td>\n",
       "      <td>0.020779</td>\n",
       "      <td>topic_1</td>\n",
       "    </tr>\n",
       "    <tr>\n",
       "      <th>5</th>\n",
       "      <td>employ</td>\n",
       "      <td>0.020587</td>\n",
       "      <td>topic_1</td>\n",
       "    </tr>\n",
       "    <tr>\n",
       "      <th>6</th>\n",
       "      <td>farm</td>\n",
       "      <td>0.018796</td>\n",
       "      <td>topic_1</td>\n",
       "    </tr>\n",
       "    <tr>\n",
       "      <th>7</th>\n",
       "      <td>provid</td>\n",
       "      <td>0.018575</td>\n",
       "      <td>topic_1</td>\n",
       "    </tr>\n",
       "    <tr>\n",
       "      <th>8</th>\n",
       "      <td>complet</td>\n",
       "      <td>0.017912</td>\n",
       "      <td>topic_1</td>\n",
       "    </tr>\n",
       "    <tr>\n",
       "      <th>9</th>\n",
       "      <td>hour</td>\n",
       "      <td>0.017283</td>\n",
       "      <td>topic_1</td>\n",
       "    </tr>\n",
       "    <tr>\n",
       "      <th>0</th>\n",
       "      <td>mechan</td>\n",
       "      <td>0.095445</td>\n",
       "      <td>topic_2</td>\n",
       "    </tr>\n",
       "    <tr>\n",
       "      <th>1</th>\n",
       "      <td>vari</td>\n",
       "      <td>0.095361</td>\n",
       "      <td>topic_2</td>\n",
       "    </tr>\n",
       "    <tr>\n",
       "      <th>2</th>\n",
       "      <td>time</td>\n",
       "      <td>0.075158</td>\n",
       "      <td>topic_2</td>\n",
       "    </tr>\n",
       "    <tr>\n",
       "      <th>3</th>\n",
       "      <td>avail</td>\n",
       "      <td>0.074316</td>\n",
       "      <td>topic_2</td>\n",
       "    </tr>\n",
       "    <tr>\n",
       "      <th>4</th>\n",
       "      <td>assign</td>\n",
       "      <td>0.052872</td>\n",
       "      <td>topic_2</td>\n",
       "    </tr>\n",
       "    <tr>\n",
       "      <th>5</th>\n",
       "      <td>tobacco</td>\n",
       "      <td>0.051756</td>\n",
       "      <td>topic_2</td>\n",
       "    </tr>\n",
       "    <tr>\n",
       "      <th>6</th>\n",
       "      <td>nworker</td>\n",
       "      <td>0.048904</td>\n",
       "      <td>topic_2</td>\n",
       "    </tr>\n",
       "    <tr>\n",
       "      <th>7</th>\n",
       "      <td>begin</td>\n",
       "      <td>0.048830</td>\n",
       "      <td>topic_2</td>\n",
       "    </tr>\n",
       "    <tr>\n",
       "      <th>8</th>\n",
       "      <td>pull</td>\n",
       "      <td>0.044901</td>\n",
       "      <td>topic_2</td>\n",
       "    </tr>\n",
       "    <tr>\n",
       "      <th>9</th>\n",
       "      <td>sucker</td>\n",
       "      <td>0.043161</td>\n",
       "      <td>topic_2</td>\n",
       "    </tr>\n",
       "  </tbody>\n",
       "</table>\n",
       "</div>"
      ],
      "text/plain": [
       "       words   weights    topic\n",
       "0      anoth  0.046555  topic_0\n",
       "1   threaten  0.046501  topic_0\n",
       "2       tani  0.046492  topic_0\n",
       "3      legal  0.046472  topic_0\n",
       "4      appli  0.046284  topic_0\n",
       "5     physic  0.045886  topic_0\n",
       "6     domest  0.045855  topic_0\n",
       "7   although  0.045630  topic_0\n",
       "8       list  0.044865  topic_0\n",
       "9     reserv  0.040827  topic_0\n",
       "0       cont  0.045232  topic_1\n",
       "1       rule  0.024484  topic_1\n",
       "2  transport  0.022552  topic_1\n",
       "3       hous  0.021669  topic_1\n",
       "4    contact  0.020779  topic_1\n",
       "5     employ  0.020587  topic_1\n",
       "6       farm  0.018796  topic_1\n",
       "7     provid  0.018575  topic_1\n",
       "8    complet  0.017912  topic_1\n",
       "9       hour  0.017283  topic_1\n",
       "0     mechan  0.095445  topic_2\n",
       "1       vari  0.095361  topic_2\n",
       "2       time  0.075158  topic_2\n",
       "3      avail  0.074316  topic_2\n",
       "4     assign  0.052872  topic_2\n",
       "5    tobacco  0.051756  topic_2\n",
       "6    nworker  0.048904  topic_2\n",
       "7      begin  0.048830  topic_2\n",
       "8       pull  0.044901  topic_2\n",
       "9     sucker  0.043161  topic_2"
      ]
     },
     "execution_count": 36,
     "metadata": {},
     "output_type": "execute_result"
    }
   ],
   "source": [
    "topics_fromshow2 = [lda_model_tfidf.show_topic(topicid = i, topn = 10) for i in [0, 1, 2]]\n",
    "def df_onetopic(one_listoftup, i):\n",
    "    words = [one_tup[0] for one_tup in one_listoftup]\n",
    "    weights = [one_tup[1] for one_tup in one_listoftup]\n",
    "    words_weights_df = pd.DataFrame({'words': words, 'weights': weights})\n",
    "    words_weights_df['topic'] = \"topic_\" + str(i)\n",
    "    return(words_weights_df)\n",
    "all_summary = []\n",
    "for i in range(0, len(topics_fromshow2)):\n",
    "    one_summary = df_onetopic(topics_fromshow2[i], i)\n",
    "    all_summary.append(one_summary)\n",
    "all_summary_df = pd.concat(all_summary)\n",
    "all_summary_df"
   ]
  },
  {
   "cell_type": "code",
   "execution_count": 37,
   "id": "christian-baker",
   "metadata": {},
   "outputs": [
    {
     "data": {
      "image/png": "[encoded data removed]",
      "text/plain": [
       "<Figure size 640x480 with 3 Axes>"
      ]
     },
     "metadata": {},
     "output_type": "display_data"
    },
    {
     "data": {
      "text/plain": [
       "<ggplot: (8769739236602)>"
      ]
     },
     "execution_count": 37,
     "metadata": {},
     "output_type": "execute_result"
    }
   ],
   "source": [
    "import plotnine\n",
    "from plotnine import *\n",
    "\n",
    "ggplot(all_summary_df) +\\\n",
    "    geom_bar(aes(x=\"reorder(words,weights)\",y=\"weights\"),stat=\"identity\", fill=\"brown\")+ facet_wrap(\"topic\",scales = \"free\")+theme(subplots_adjust={'wspace': 0.30})+\\\n",
    "    theme(axis_text_x = element_text(angle = 80)) + \\\n",
    "    labs(x=\"Words\", y=\"Weights\",title=\"Topics & Corresponded Words in TRLA States' H-2A Job Listings\")"
   ]
  },
  {
   "cell_type": "code",
   "execution_count": 38,
   "id": "collectible-water",
   "metadata": {},
   "outputs": [
    {
     "name": "stdout",
     "output_type": "stream",
     "text": [
      "(0, '0.066*\"advanc\" + 0.033*\"transport\" + 0.029*\"complet\" + 0.028*\"provid\" + 0.028*\"hous\" + 0.026*\"harvest\" + 0.026*\"offer\" + 0.021*\"subsist\" + 0.020*\"hour\" + 0.019*\"commun\"')\n",
      "(1, '0.050*\"transport\" + 0.045*\"requir\" + 0.044*\"tool\" + 0.038*\"wage\" + 0.038*\"equip\" + 0.033*\"bonus\" + 0.030*\"higher\" + 0.030*\"suppli\" + 0.029*\"employe\" + 0.027*\"termin\"')\n",
      "(2, '0.119*\"inbound\" + 0.075*\"specif\" + 0.070*\"cost\" + 0.068*\"state\" + 0.064*\"outbound\" + 0.057*\"qualifi\" + 0.051*\"provid\" + 0.050*\"york\" + 0.039*\"transport\" + 0.033*\"item\"')\n"
     ]
    }
   ],
   "source": [
    "## topic modeling (nonTRLA states)\n",
    "\n",
    "merged_nonTRLA = merged_nonTRLA[merged_nonTRLA.text_preprocess != \"\"].copy()\n",
    "\n",
    "tokenized_text_nonTRLA = [wordpunct_tokenize(one_text) for one_text in \n",
    "                                      merged_nonTRLA.text_preprocess]\n",
    "\n",
    "## preprocess and estimate topicmod\n",
    "### create dictionary\n",
    "text_proc_dict_nonTRLA = corpora.Dictionary(tokenized_text_nonTRLA)\n",
    "### filter dictionary- using 2% as bounds\n",
    "text_proc_dict_nonTRLA.filter_extremes(no_below = round(merged_nonTRLA.shape[0]*0.02),\n",
    "                             no_above = round(merged_nonTRLA.shape[0]*0.98))\n",
    "\n",
    "### create corpus from dictionary\n",
    "corpus_fromdict_proc_non = [text_proc_dict_nonTRLA.doc2bow(one_text) \n",
    "                   for one_text in tokenized_text_nonTRLA]\n",
    "\n",
    "tfidf_non = models.TfidfModel(corpus_fromdict_proc_non)\n",
    "corpus_tfidf_non = tfidf[corpus_fromdict_proc_non]\n",
    "\n",
    "lda_model_tfidf_non = gensim.models.LdaMulticore(corpus_tfidf_non, num_topics=3, id2word=text_proc_dict_nonTRLA, passes=6,\n",
    "                                        per_word_topics = True, random_state = 91988)\n",
    "\n",
    "topics_nontrla = lda_model_tfidf_non.print_topics()\n",
    "for topic in topics_nontrla:\n",
    "    print(topic)"
   ]
  },
  {
   "cell_type": "code",
   "execution_count": 39,
   "id": "worst-spring",
   "metadata": {},
   "outputs": [
    {
     "data": {
      "text/html": [
       "<div>\n",
       "<style scoped>\n",
       "    .dataframe tbody tr th:only-of-type {\n",
       "        vertical-align: middle;\n",
       "    }\n",
       "\n",
       "    .dataframe tbody tr th {\n",
       "        vertical-align: top;\n",
       "    }\n",
       "\n",
       "    .dataframe thead th {\n",
       "        text-align: right;\n",
       "    }\n",
       "</style>\n",
       "<table border=\"1\" class=\"dataframe\">\n",
       "  <thead>\n",
       "    <tr style=\"text-align: right;\">\n",
       "      <th></th>\n",
       "      <th>words</th>\n",
       "      <th>weights</th>\n",
       "      <th>topic</th>\n",
       "    </tr>\n",
       "  </thead>\n",
       "  <tbody>\n",
       "    <tr>\n",
       "      <th>0</th>\n",
       "      <td>advanc</td>\n",
       "      <td>0.065896</td>\n",
       "      <td>topic_0</td>\n",
       "    </tr>\n",
       "    <tr>\n",
       "      <th>1</th>\n",
       "      <td>transport</td>\n",
       "      <td>0.032925</td>\n",
       "      <td>topic_0</td>\n",
       "    </tr>\n",
       "    <tr>\n",
       "      <th>2</th>\n",
       "      <td>complet</td>\n",
       "      <td>0.028915</td>\n",
       "      <td>topic_0</td>\n",
       "    </tr>\n",
       "    <tr>\n",
       "      <th>3</th>\n",
       "      <td>provid</td>\n",
       "      <td>0.028383</td>\n",
       "      <td>topic_0</td>\n",
       "    </tr>\n",
       "    <tr>\n",
       "      <th>4</th>\n",
       "      <td>hous</td>\n",
       "      <td>0.028149</td>\n",
       "      <td>topic_0</td>\n",
       "    </tr>\n",
       "    <tr>\n",
       "      <th>5</th>\n",
       "      <td>harvest</td>\n",
       "      <td>0.026048</td>\n",
       "      <td>topic_0</td>\n",
       "    </tr>\n",
       "    <tr>\n",
       "      <th>6</th>\n",
       "      <td>offer</td>\n",
       "      <td>0.025877</td>\n",
       "      <td>topic_0</td>\n",
       "    </tr>\n",
       "    <tr>\n",
       "      <th>7</th>\n",
       "      <td>subsist</td>\n",
       "      <td>0.021037</td>\n",
       "      <td>topic_0</td>\n",
       "    </tr>\n",
       "    <tr>\n",
       "      <th>8</th>\n",
       "      <td>hour</td>\n",
       "      <td>0.020109</td>\n",
       "      <td>topic_0</td>\n",
       "    </tr>\n",
       "    <tr>\n",
       "      <th>9</th>\n",
       "      <td>commun</td>\n",
       "      <td>0.019435</td>\n",
       "      <td>topic_0</td>\n",
       "    </tr>\n",
       "    <tr>\n",
       "      <th>0</th>\n",
       "      <td>transport</td>\n",
       "      <td>0.049682</td>\n",
       "      <td>topic_1</td>\n",
       "    </tr>\n",
       "    <tr>\n",
       "      <th>1</th>\n",
       "      <td>requir</td>\n",
       "      <td>0.044836</td>\n",
       "      <td>topic_1</td>\n",
       "    </tr>\n",
       "    <tr>\n",
       "      <th>2</th>\n",
       "      <td>tool</td>\n",
       "      <td>0.043648</td>\n",
       "      <td>topic_1</td>\n",
       "    </tr>\n",
       "    <tr>\n",
       "      <th>3</th>\n",
       "      <td>wage</td>\n",
       "      <td>0.037896</td>\n",
       "      <td>topic_1</td>\n",
       "    </tr>\n",
       "    <tr>\n",
       "      <th>4</th>\n",
       "      <td>equip</td>\n",
       "      <td>0.037605</td>\n",
       "      <td>topic_1</td>\n",
       "    </tr>\n",
       "    <tr>\n",
       "      <th>5</th>\n",
       "      <td>bonus</td>\n",
       "      <td>0.032819</td>\n",
       "      <td>topic_1</td>\n",
       "    </tr>\n",
       "    <tr>\n",
       "      <th>6</th>\n",
       "      <td>higher</td>\n",
       "      <td>0.030195</td>\n",
       "      <td>topic_1</td>\n",
       "    </tr>\n",
       "    <tr>\n",
       "      <th>7</th>\n",
       "      <td>suppli</td>\n",
       "      <td>0.029988</td>\n",
       "      <td>topic_1</td>\n",
       "    </tr>\n",
       "    <tr>\n",
       "      <th>8</th>\n",
       "      <td>employe</td>\n",
       "      <td>0.029332</td>\n",
       "      <td>topic_1</td>\n",
       "    </tr>\n",
       "    <tr>\n",
       "      <th>9</th>\n",
       "      <td>termin</td>\n",
       "      <td>0.027055</td>\n",
       "      <td>topic_1</td>\n",
       "    </tr>\n",
       "    <tr>\n",
       "      <th>0</th>\n",
       "      <td>inbound</td>\n",
       "      <td>0.119273</td>\n",
       "      <td>topic_2</td>\n",
       "    </tr>\n",
       "    <tr>\n",
       "      <th>1</th>\n",
       "      <td>specif</td>\n",
       "      <td>0.074712</td>\n",
       "      <td>topic_2</td>\n",
       "    </tr>\n",
       "    <tr>\n",
       "      <th>2</th>\n",
       "      <td>cost</td>\n",
       "      <td>0.069629</td>\n",
       "      <td>topic_2</td>\n",
       "    </tr>\n",
       "    <tr>\n",
       "      <th>3</th>\n",
       "      <td>state</td>\n",
       "      <td>0.068392</td>\n",
       "      <td>topic_2</td>\n",
       "    </tr>\n",
       "    <tr>\n",
       "      <th>4</th>\n",
       "      <td>outbound</td>\n",
       "      <td>0.064164</td>\n",
       "      <td>topic_2</td>\n",
       "    </tr>\n",
       "    <tr>\n",
       "      <th>5</th>\n",
       "      <td>qualifi</td>\n",
       "      <td>0.056745</td>\n",
       "      <td>topic_2</td>\n",
       "    </tr>\n",
       "    <tr>\n",
       "      <th>6</th>\n",
       "      <td>provid</td>\n",
       "      <td>0.050882</td>\n",
       "      <td>topic_2</td>\n",
       "    </tr>\n",
       "    <tr>\n",
       "      <th>7</th>\n",
       "      <td>york</td>\n",
       "      <td>0.050161</td>\n",
       "      <td>topic_2</td>\n",
       "    </tr>\n",
       "    <tr>\n",
       "      <th>8</th>\n",
       "      <td>transport</td>\n",
       "      <td>0.039016</td>\n",
       "      <td>topic_2</td>\n",
       "    </tr>\n",
       "    <tr>\n",
       "      <th>9</th>\n",
       "      <td>item</td>\n",
       "      <td>0.032511</td>\n",
       "      <td>topic_2</td>\n",
       "    </tr>\n",
       "  </tbody>\n",
       "</table>\n",
       "</div>"
      ],
      "text/plain": [
       "       words   weights    topic\n",
       "0     advanc  0.065896  topic_0\n",
       "1  transport  0.032925  topic_0\n",
       "2    complet  0.028915  topic_0\n",
       "3     provid  0.028383  topic_0\n",
       "4       hous  0.028149  topic_0\n",
       "5    harvest  0.026048  topic_0\n",
       "6      offer  0.025877  topic_0\n",
       "7    subsist  0.021037  topic_0\n",
       "8       hour  0.020109  topic_0\n",
       "9     commun  0.019435  topic_0\n",
       "0  transport  0.049682  topic_1\n",
       "1     requir  0.044836  topic_1\n",
       "2       tool  0.043648  topic_1\n",
       "3       wage  0.037896  topic_1\n",
       "4      equip  0.037605  topic_1\n",
       "5      bonus  0.032819  topic_1\n",
       "6     higher  0.030195  topic_1\n",
       "7     suppli  0.029988  topic_1\n",
       "8    employe  0.029332  topic_1\n",
       "9     termin  0.027055  topic_1\n",
       "0    inbound  0.119273  topic_2\n",
       "1     specif  0.074712  topic_2\n",
       "2       cost  0.069629  topic_2\n",
       "3      state  0.068392  topic_2\n",
       "4   outbound  0.064164  topic_2\n",
       "5    qualifi  0.056745  topic_2\n",
       "6     provid  0.050882  topic_2\n",
       "7       york  0.050161  topic_2\n",
       "8  transport  0.039016  topic_2\n",
       "9       item  0.032511  topic_2"
      ]
     },
     "execution_count": 39,
     "metadata": {},
     "output_type": "execute_result"
    }
   ],
   "source": [
    "topics_fromshow2_non = [lda_model_tfidf_non.show_topic(topicid = i, topn = 10) for i in [0, 1, 2]]\n",
    "def df_onetopic(one_listoftup, i):\n",
    "    words = [one_tup[0] for one_tup in one_listoftup]\n",
    "    weights = [one_tup[1] for one_tup in one_listoftup]\n",
    "    words_weights_df = pd.DataFrame({'words': words, 'weights': weights})\n",
    "    words_weights_df['topic'] = \"topic_\" + str(i)\n",
    "    return(words_weights_df)\n",
    "all_summary_non = []\n",
    "for i in range(0, len(topics_fromshow2_non)):\n",
    "    one_summary_non = df_onetopic(topics_fromshow2_non[i], i)\n",
    "    all_summary_non.append(one_summary_non)\n",
    "all_summary_df_non = pd.concat(all_summary_non)\n",
    "all_summary_df_non"
   ]
  },
  {
   "cell_type": "code",
   "execution_count": 40,
   "id": "generic-sheep",
   "metadata": {},
   "outputs": [
    {
     "data": {
      "image/png": "[encoded data removed]",
      "text/plain": [
       "<Figure size 640x480 with 3 Axes>"
      ]
     },
     "metadata": {},
     "output_type": "display_data"
    },
    {
     "data": {
      "text/plain": [
       "<ggplot: (8769739236515)>"
      ]
     },
     "execution_count": 40,
     "metadata": {},
     "output_type": "execute_result"
    }
   ],
   "source": [
    "import plotnine\n",
    "from plotnine import *\n",
    "\n",
    "ggplot(all_summary_df_non) +\\\n",
    "    geom_bar(aes(x=\"reorder(words,weights)\",y=\"weights\"),stat=\"identity\", fill=\"green\")+ facet_wrap(\"topic\",scales = \"free\")+theme(subplots_adjust={'wspace': 0.30})+\\\n",
    "    theme(axis_text_x = element_text(angle = 80)) + \\\n",
    "    labs(x=\"Words\", y=\"Weights\",title=\"Topics & Corresponded Words in non-TRLA States' H-2A Job Listings\")"
   ]
  },
  {
   "cell_type": "code",
   "execution_count": 41,
   "id": "ordered-pioneer",
   "metadata": {},
   "outputs": [
    {
     "name": "stdout",
     "output_type": "stream",
     "text": [
      "(0, '0.069*\"advanc\" + 0.033*\"employe\" + 0.032*\"although\" + 0.032*\"physic\" + 0.029*\"reserv\" + 0.028*\"inbound\" + 0.028*\"outbound\" + 0.028*\"legal\" + 0.028*\"threaten\" + 0.028*\"right\"')\n",
      "(1, '0.047*\"transport\" + 0.035*\"rule\" + 0.029*\"requir\" + 0.029*\"hous\" + 0.027*\"provid\" + 0.025*\"offer\" + 0.022*\"must\" + 0.021*\"applic\" + 0.020*\"inbound\" + 0.018*\"harvest\"')\n",
      "(2, '0.102*\"time\" + 0.065*\"cont\" + 0.059*\"complet\" + 0.057*\"vari\" + 0.049*\"transport\" + 0.041*\"reimburs\" + 0.040*\"avail\" + 0.038*\"begin\" + 0.036*\"nworker\" + 0.027*\"provid\"')\n"
     ]
    }
   ],
   "source": [
    "## topic modeling (whole document)\n",
    " \n",
    "merged_data = merged_data[merged_data.text_preprocess != \"\"].copy()\n",
    "\n",
    "tokenized_text_all = [wordpunct_tokenize(one_text) for one_text in \n",
    "                                      merged_data.text_preprocess]\n",
    "\n",
    "## preprocess and estimate topicmod\n",
    "### create dictionary\n",
    "text_proc_dict_all = corpora.Dictionary(tokenized_text_all)\n",
    "### filter dictionary- using 2% as bounds\n",
    "text_proc_dict_all.filter_extremes(no_below = round(merged_data.shape[0]*0.02),\n",
    "                             no_above = round(merged_data.shape[0]*0.98))\n",
    "\n",
    "### create corpus from dictionary\n",
    "corpus_fromdict_proc_all = [text_proc_dict_all.doc2bow(one_text) \n",
    "                   for one_text in tokenized_text_all]\n",
    "\n",
    "tfidf_all = models.TfidfModel(corpus_fromdict_proc_all)\n",
    "corpus_tfidf_all = tfidf[corpus_fromdict_proc_all]\n",
    "\n",
    "lda_model_tfidf_all = gensim.models.LdaMulticore(corpus_tfidf_all, num_topics=3, id2word=text_proc_dict_all, passes=6,\n",
    "                                        per_word_topics = True, random_state = 91988)\n",
    "\n",
    "#print words and topic separate...\n",
    "topics_all = lda_model_tfidf_all.print_topics(num_words = 10)\n",
    "for topic in topics_all:\n",
    "    print(topic)"
   ]
  },
  {
   "cell_type": "code",
   "execution_count": 42,
   "id": "illegal-nirvana",
   "metadata": {},
   "outputs": [
    {
     "data": {
      "text/html": [
       "<div>\n",
       "<style scoped>\n",
       "    .dataframe tbody tr th:only-of-type {\n",
       "        vertical-align: middle;\n",
       "    }\n",
       "\n",
       "    .dataframe tbody tr th {\n",
       "        vertical-align: top;\n",
       "    }\n",
       "\n",
       "    .dataframe thead th {\n",
       "        text-align: right;\n",
       "    }\n",
       "</style>\n",
       "<table border=\"1\" class=\"dataframe\">\n",
       "  <thead>\n",
       "    <tr style=\"text-align: right;\">\n",
       "      <th></th>\n",
       "      <th>words</th>\n",
       "      <th>weights</th>\n",
       "      <th>topic</th>\n",
       "    </tr>\n",
       "  </thead>\n",
       "  <tbody>\n",
       "    <tr>\n",
       "      <th>0</th>\n",
       "      <td>advanc</td>\n",
       "      <td>0.068731</td>\n",
       "      <td>topic_0</td>\n",
       "    </tr>\n",
       "    <tr>\n",
       "      <th>1</th>\n",
       "      <td>employe</td>\n",
       "      <td>0.032710</td>\n",
       "      <td>topic_0</td>\n",
       "    </tr>\n",
       "    <tr>\n",
       "      <th>2</th>\n",
       "      <td>although</td>\n",
       "      <td>0.032299</td>\n",
       "      <td>topic_0</td>\n",
       "    </tr>\n",
       "    <tr>\n",
       "      <th>3</th>\n",
       "      <td>physic</td>\n",
       "      <td>0.031685</td>\n",
       "      <td>topic_0</td>\n",
       "    </tr>\n",
       "    <tr>\n",
       "      <th>4</th>\n",
       "      <td>reserv</td>\n",
       "      <td>0.028534</td>\n",
       "      <td>topic_0</td>\n",
       "    </tr>\n",
       "    <tr>\n",
       "      <th>5</th>\n",
       "      <td>inbound</td>\n",
       "      <td>0.028151</td>\n",
       "      <td>topic_0</td>\n",
       "    </tr>\n",
       "    <tr>\n",
       "      <th>6</th>\n",
       "      <td>outbound</td>\n",
       "      <td>0.028058</td>\n",
       "      <td>topic_0</td>\n",
       "    </tr>\n",
       "    <tr>\n",
       "      <th>7</th>\n",
       "      <td>legal</td>\n",
       "      <td>0.027972</td>\n",
       "      <td>topic_0</td>\n",
       "    </tr>\n",
       "    <tr>\n",
       "      <th>8</th>\n",
       "      <td>threaten</td>\n",
       "      <td>0.027624</td>\n",
       "      <td>topic_0</td>\n",
       "    </tr>\n",
       "    <tr>\n",
       "      <th>9</th>\n",
       "      <td>right</td>\n",
       "      <td>0.027550</td>\n",
       "      <td>topic_0</td>\n",
       "    </tr>\n",
       "    <tr>\n",
       "      <th>0</th>\n",
       "      <td>transport</td>\n",
       "      <td>0.047186</td>\n",
       "      <td>topic_1</td>\n",
       "    </tr>\n",
       "    <tr>\n",
       "      <th>1</th>\n",
       "      <td>rule</td>\n",
       "      <td>0.034555</td>\n",
       "      <td>topic_1</td>\n",
       "    </tr>\n",
       "    <tr>\n",
       "      <th>2</th>\n",
       "      <td>requir</td>\n",
       "      <td>0.028593</td>\n",
       "      <td>topic_1</td>\n",
       "    </tr>\n",
       "    <tr>\n",
       "      <th>3</th>\n",
       "      <td>hous</td>\n",
       "      <td>0.028586</td>\n",
       "      <td>topic_1</td>\n",
       "    </tr>\n",
       "    <tr>\n",
       "      <th>4</th>\n",
       "      <td>provid</td>\n",
       "      <td>0.027455</td>\n",
       "      <td>topic_1</td>\n",
       "    </tr>\n",
       "    <tr>\n",
       "      <th>5</th>\n",
       "      <td>offer</td>\n",
       "      <td>0.025110</td>\n",
       "      <td>topic_1</td>\n",
       "    </tr>\n",
       "    <tr>\n",
       "      <th>6</th>\n",
       "      <td>must</td>\n",
       "      <td>0.022312</td>\n",
       "      <td>topic_1</td>\n",
       "    </tr>\n",
       "    <tr>\n",
       "      <th>7</th>\n",
       "      <td>applic</td>\n",
       "      <td>0.021189</td>\n",
       "      <td>topic_1</td>\n",
       "    </tr>\n",
       "    <tr>\n",
       "      <th>8</th>\n",
       "      <td>inbound</td>\n",
       "      <td>0.019609</td>\n",
       "      <td>topic_1</td>\n",
       "    </tr>\n",
       "    <tr>\n",
       "      <th>9</th>\n",
       "      <td>harvest</td>\n",
       "      <td>0.017816</td>\n",
       "      <td>topic_1</td>\n",
       "    </tr>\n",
       "    <tr>\n",
       "      <th>0</th>\n",
       "      <td>time</td>\n",
       "      <td>0.101949</td>\n",
       "      <td>topic_2</td>\n",
       "    </tr>\n",
       "    <tr>\n",
       "      <th>1</th>\n",
       "      <td>cont</td>\n",
       "      <td>0.065137</td>\n",
       "      <td>topic_2</td>\n",
       "    </tr>\n",
       "    <tr>\n",
       "      <th>2</th>\n",
       "      <td>complet</td>\n",
       "      <td>0.059103</td>\n",
       "      <td>topic_2</td>\n",
       "    </tr>\n",
       "    <tr>\n",
       "      <th>3</th>\n",
       "      <td>vari</td>\n",
       "      <td>0.056921</td>\n",
       "      <td>topic_2</td>\n",
       "    </tr>\n",
       "    <tr>\n",
       "      <th>4</th>\n",
       "      <td>transport</td>\n",
       "      <td>0.048959</td>\n",
       "      <td>topic_2</td>\n",
       "    </tr>\n",
       "    <tr>\n",
       "      <th>5</th>\n",
       "      <td>reimburs</td>\n",
       "      <td>0.041042</td>\n",
       "      <td>topic_2</td>\n",
       "    </tr>\n",
       "    <tr>\n",
       "      <th>6</th>\n",
       "      <td>avail</td>\n",
       "      <td>0.039753</td>\n",
       "      <td>topic_2</td>\n",
       "    </tr>\n",
       "    <tr>\n",
       "      <th>7</th>\n",
       "      <td>begin</td>\n",
       "      <td>0.038220</td>\n",
       "      <td>topic_2</td>\n",
       "    </tr>\n",
       "    <tr>\n",
       "      <th>8</th>\n",
       "      <td>nworker</td>\n",
       "      <td>0.036325</td>\n",
       "      <td>topic_2</td>\n",
       "    </tr>\n",
       "    <tr>\n",
       "      <th>9</th>\n",
       "      <td>provid</td>\n",
       "      <td>0.027366</td>\n",
       "      <td>topic_2</td>\n",
       "    </tr>\n",
       "  </tbody>\n",
       "</table>\n",
       "</div>"
      ],
      "text/plain": [
       "       words   weights    topic\n",
       "0     advanc  0.068731  topic_0\n",
       "1    employe  0.032710  topic_0\n",
       "2   although  0.032299  topic_0\n",
       "3     physic  0.031685  topic_0\n",
       "4     reserv  0.028534  topic_0\n",
       "5    inbound  0.028151  topic_0\n",
       "6   outbound  0.028058  topic_0\n",
       "7      legal  0.027972  topic_0\n",
       "8   threaten  0.027624  topic_0\n",
       "9      right  0.027550  topic_0\n",
       "0  transport  0.047186  topic_1\n",
       "1       rule  0.034555  topic_1\n",
       "2     requir  0.028593  topic_1\n",
       "3       hous  0.028586  topic_1\n",
       "4     provid  0.027455  topic_1\n",
       "5      offer  0.025110  topic_1\n",
       "6       must  0.022312  topic_1\n",
       "7     applic  0.021189  topic_1\n",
       "8    inbound  0.019609  topic_1\n",
       "9    harvest  0.017816  topic_1\n",
       "0       time  0.101949  topic_2\n",
       "1       cont  0.065137  topic_2\n",
       "2    complet  0.059103  topic_2\n",
       "3       vari  0.056921  topic_2\n",
       "4  transport  0.048959  topic_2\n",
       "5   reimburs  0.041042  topic_2\n",
       "6      avail  0.039753  topic_2\n",
       "7      begin  0.038220  topic_2\n",
       "8    nworker  0.036325  topic_2\n",
       "9     provid  0.027366  topic_2"
      ]
     },
     "execution_count": 42,
     "metadata": {},
     "output_type": "execute_result"
    }
   ],
   "source": [
    "topics_fromshow2_all = [lda_model_tfidf_all.show_topic(topicid = i, topn = 10) for i in [0, 1, 2]]\n",
    "\n",
    "def df_onetopic(one_listoftup, i):\n",
    "    words = [one_tup[0] for one_tup in one_listoftup]\n",
    "    weights = [one_tup[1] for one_tup in one_listoftup]\n",
    "    words_weights_df = pd.DataFrame({'words': words, 'weights': weights})\n",
    "    words_weights_df['topic'] = \"topic_\" + str(i)\n",
    "    return(words_weights_df)\n",
    "all_summary_all = []\n",
    "for i in range(0, len(topics_fromshow2_all)):\n",
    "    one_summary_all = df_onetopic(topics_fromshow2_all[i], i)\n",
    "    all_summary_all.append(one_summary_all)\n",
    "all_summary_df_all = pd.concat(all_summary_all)\n",
    "all_summary_df_all"
   ]
  },
  {
   "cell_type": "code",
   "execution_count": 43,
   "id": "acoustic-lawsuit",
   "metadata": {},
   "outputs": [
    {
     "data": {
      "image/png": "[encoded data removed]",
      "text/plain": [
       "<Figure size 640x480 with 3 Axes>"
      ]
     },
     "metadata": {},
     "output_type": "display_data"
    },
    {
     "data": {
      "text/plain": [
       "<ggplot: (8769739219035)>"
      ]
     },
     "execution_count": 43,
     "metadata": {},
     "output_type": "execute_result"
    }
   ],
   "source": [
    "import plotnine\n",
    "from plotnine import *\n",
    "\n",
    "ggplot(all_summary_df_all) +\\\n",
    "    geom_bar(aes(x=\"reorder(words,weights)\",y=\"weights\"),stat=\"identity\", fill=\"orange\")+ facet_wrap(\"topic\",scales = \"free\")+theme(subplots_adjust={'wspace': 0.30})+\\\n",
    "    theme(axis_text_x = element_text(angle = 80)) + \\\n",
    "    labs(x=\"Words\", y=\"Weights\",title=\"Topics & Corresponded Words in H-2A Job Listings\")"
   ]
  }
 ],
 "metadata": {
  "kernelspec": {
   "display_name": "Python 3",
   "language": "python",
   "name": "python3"
  },
  "language_info": {
   "codemirror_mode": {
    "name": "ipython",
    "version": 3
   },
   "file_extension": ".py",
   "mimetype": "text/x-python",
   "name": "python",
   "nbconvert_exporter": "python",
   "pygments_lexer": "ipython3",
   "version": "3.8.8"
  }
 },
 "nbformat": 4,
 "nbformat_minor": 5
}
